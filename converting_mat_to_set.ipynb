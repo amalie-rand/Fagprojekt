{
 "cells": [
  {
   "cell_type": "markdown",
   "id": "718783a8",
   "metadata": {},
   "source": [
    "# After saving the valid file names in a list called valid_time_files and the corresponding metadata in metadata_time_filtered.csv, in the file saving_metadata.ipynb, this code will be run to convert .mat files to .set files"
   ]
  },
  {
   "cell_type": "markdown",
   "id": "8e550e98",
   "metadata": {},
   "source": [
    "This code preprocesses the mat files like Christian and then converts each of the files into a .set file, saving them to a folder called \"preprocessed_set_files\". Only done for the subjects that are valid ie which metadata is in the csv file metadata_time_filtered"
   ]
  },
  {
   "cell_type": "code",
   "execution_count": null,
   "id": "42996386",
   "metadata": {},
   "outputs": [],
   "source": [
    "import numpy as np\n",
    "import pandas as pd\n",
    "import scipy.io\n",
    "import mne\n",
    "import warnings\n",
    "import shutil\n",
    "from IPython.display import clear_output\n",
    "import os\n",
    "import mne"
   ]
  },
  {
   "cell_type": "code",
   "execution_count": null,
   "id": "c6f431ec",
   "metadata": {},
   "outputs": [],
   "source": [
    "mat_dir = \"E:\\\\ChristianMusaeus\\\\Data\\\\eAsMat_1968-14999\"\n",
    "output_dir = \"G:\\ChristianMusaeus\\\\Preprocessed_setfiles\"  # Change this to your target drive/folder\n",
    "valid_csv = \"metadata_time_filtered.csv\"\n",
    "os.makedirs(output_dir, exist_ok=True)\n",
    "\n",
    "# SUPPRESS VERBOSE OUTPUT\n",
    "mne.set_log_level('ERROR')\n",
    "warnings.filterwarnings('ignore')\n",
    "\n",
    "# processing function\n",
    "def preprocess_and_export_set(mat_path, output_path):\n",
    "    mat = scipy.io.loadmat(mat_path, struct_as_record=False, squeeze_me=True)\n",
    "    eeg = mat['EEG']\n",
    "    if isinstance(eeg, np.ndarray):\n",
    "        eeg = eeg.item()\n",
    "\n",
    "    data = eeg.data  # shape: (n_channels, n_samples)\n",
    "    sfreq = eeg.sr\n",
    "\n",
    "    if data.ndim != 2:\n",
    "        raise ValueError(f\"Unexpected data shape: {data.shape}\")\n",
    "\n",
    "    n_channels, n_samples = data.shape\n",
    "    ch_names = [f\"Ch{i+1}\" for i in range(n_channels)]\n",
    "    info = mne.create_info(ch_names=ch_names, sfreq=sfreq, ch_types=\"eeg\")\n",
    "    raw = mne.io.RawArray(data * 1e-6, info)  # Convert µV to V\n",
    "\n",
    "    # Step 1: Resample to 200 Hz\n",
    "    raw = raw.resample(200)\n",
    "\n",
    "    # Step 2: Band-pass filter from 1–70 Hz\n",
    "    raw = raw.filter(l_freq=1., h_freq=70.)\n",
    "\n",
    "    # Step 3: Notch filter at 50 Hz\n",
    "    raw = raw.notch_filter(freqs=50)\n",
    "\n",
    "    # Step 4: Reduce to first 19 channels\n",
    "    if len(raw.ch_names) > 19:\n",
    "        raw.pick_channels(raw.ch_names[:19])\n",
    "\n",
    "    # Step 5: Create 1-second fixed-length epochs\n",
    "    events = mne.make_fixed_length_events(raw, duration=1.0)\n",
    "    epochs = mne.Epochs(raw, events, tmin=0.0, tmax=1.0,\n",
    "                        baseline=None, preload=True, reject_by_annotation=True)\n",
    "    \n",
    "    # Step 6: Export to .set (EEGLAB)\n",
    "    epochs.export(output_path, fmt='eeglab')\n",
    "\n",
    "# Main loop \n",
    "valid_df = pd.read_csv(valid_csv)\n",
    "total_files = len(valid_df)\n",
    "processed_count = 0\n",
    "\n",
    "for i, row in enumerate(valid_df.itertuples(index=False), 1):\n",
    "    subject_id = row.subject_id\n",
    "    mat_path = os.path.join(mat_dir, f\"{subject_id}.mat\")\n",
    "    output_path = os.path.join(output_dir, f\"{subject_id}_epoched.set\")\n",
    "\n",
    "    clear_output(wait=True)\n",
    "    print(f\"[{i}/{total_files}] Processing subject {subject_id}...\")\n",
    "\n",
    "    try: # we had some issues with the computer not having enough space for all the files.\n",
    "        # therefore we continuously checked if there was enough space on the drive, and if not, the conversion would stop\n",
    "        # luckily there was enough space on the drive for all 5778 files\n",
    "        # Check remaining free space\n",
    "        free_space_bytes = shutil.disk_usage(output_dir).free\n",
    "        if free_space_bytes < 100 * 1024 * 1024:  # Require at least 100 MB\n",
    "            print(\" Drive is full or nearly full. Stopping processing.\")\n",
    "            break\n",
    "\n",
    "        preprocess_and_export_set(mat_path, output_path)\n",
    "        processed_count += 1\n",
    "        print(f\" Saved ({processed_count} processed so far)\")\n",
    "\n",
    "    except Exception as e:\n",
    "        print(f\" Error: {e}\")\n",
    "\n",
    "print(f\"\\n Total files successfully processed: {processed_count}\")\n"
   ]
  },
  {
   "cell_type": "markdown",
   "id": "e1c6b84b",
   "metadata": {},
   "source": [
    "### Sanity check: printing the number of epochs in each file. Should be between 600 (10 minutes) and 3600 (60 minutes)"
   ]
  },
  {
   "cell_type": "code",
   "execution_count": null,
   "id": "71ad1f69",
   "metadata": {},
   "outputs": [],
   "source": [
    "set_dir = \"G:\\ChristianMusaeus\\Preprocessed_setfiles\"  # or your actual directory\n",
    "set_files = [f for f in os.listdir(set_dir) if f.endswith('.set')]\n",
    "\n",
    "# Loop through files and print epoch counts\n",
    "for i, file in enumerate(set_files, 1):\n",
    "    file_path = os.path.join(set_dir, file)\n",
    "    try:\n",
    "        epochs = mne.read_epochs_eeglab(file_path, verbose=False)\n",
    "        print(f\"[{i}/{len(set_files)}] {file} — Epochs: {len(epochs)}\")\n",
    "    except Exception as e:\n",
    "        print(f\"[{i}/{len(set_files)}] {file} — Error: {e}\")\n"
   ]
  }
 ],
 "metadata": {
  "kernelspec": {
   "display_name": "Python 3",
   "language": "python",
   "name": "python3"
  },
  "language_info": {
   "codemirror_mode": {
    "name": "ipython",
    "version": 3
   },
   "file_extension": ".py",
   "mimetype": "text/x-python",
   "name": "python",
   "nbconvert_exporter": "python",
   "pygments_lexer": "ipython3",
   "version": "3.11.9"
  }
 },
 "nbformat": 4,
 "nbformat_minor": 5
}
