{
 "cells": [
  {
   "cell_type": "code",
   "execution_count": null,
   "metadata": {},
   "outputs": [],
   "source": [
    "import mne\n",
    "import numpy as np\n",
    "import matplotlib.pyplot as plt\n",
    "from scipy.io import *\n",
    "from sklearn.preprocessing import StandardScaler\n",
    "from sklearn.model_selection import train_test_split\n",
    "from sklearn.linear_model import LogisticRegression\n",
    "from sklearn.metrics import accuracy_score, confusion_matrix, precision_score, recall_score, f1_score, roc_auc_score\n",
    "import sys\n",
    "import re"
   ]
  },
  {
   "cell_type": "markdown",
   "metadata": {},
   "source": [
    "Loading and pre-processing the training data (set-files)"
   ]
  },
  {
   "cell_type": "code",
   "execution_count": 20,
   "metadata": {},
   "outputs": [],
   "source": [
    "eyes_open_files = [r'E:\\ChristianMusaeus\\Data\\Eyes_closed_marked\\10002_p01_epoched_EyesOpen_marked.set', \n",
    "                   r'E:\\ChristianMusaeus\\Data\\Eyes_closed_marked\\10135_p01_epoched_EyesOpen_marked.set', \n",
    "                   r'E:\\ChristianMusaeus\\Data\\Eyes_closed_marked\\10136_p01_epoched_EyesOpen_marked.set', \n",
    "                   r'E:\\ChristianMusaeus\\Data\\Eyes_closed_marked\\10138_p01_epoched_EyesOpen_marked.set', \n",
    "                   r'E:\\ChristianMusaeus\\Data\\Eyes_closed_marked\\10139_p01_epoched_EyesOpen_marked.set', \n",
    "                   r'E:\\ChristianMusaeus\\Data\\Eyes_closed_marked\\10140_p01_epoched_EyesOpen_marked.set', \n",
    "                   r'E:\\ChristianMusaeus\\Data\\Eyes_closed_marked\\10142_p01_epoched_EyesOpen_marked.set',\n",
    "                   r'E:\\ChristianMusaeus\\Data\\Eyes_closed_marked\\10148_p01_epoched_EyesOpen_marked.set', \n",
    "                   r'E:\\ChristianMusaeus\\Data\\Eyes_closed_marked\\10155_p01_epoched_EyesOpen_marked.set', \n",
    "                   r'E:\\ChristianMusaeus\\Data\\Eyes_closed_marked\\10158_p01_epoched_EyesOpen_marked.set', \n",
    "                   r'E:\\ChristianMusaeus\\Data\\Eyes_closed_marked\\10160_p01_epoched_EyesOpen_marked.set', \n",
    "                   r'E:\\ChristianMusaeus\\Data\\Eyes_closed_marked\\10161_p01_epoched_EyesOpen_marked.set', \n",
    "                   r'E:\\ChristianMusaeus\\Data\\Eyes_closed_marked\\10165_p01_epoched_EyesOpen_marked.set', \n",
    "                   r'E:\\ChristianMusaeus\\Data\\Eyes_closed_marked\\10166_p01_epoched_EyesOpen_marked.set', \n",
    "                   r'E:\\ChristianMusaeus\\Data\\Eyes_closed_marked\\10169_p01_epoched_EyesOpen_marked.set', \n",
    "                   r'E:\\ChristianMusaeus\\Data\\Eyes_closed_marked\\10171_p01_epoched_EyesOpen_marked.set',\n",
    "                   r'E:\\ChristianMusaeus\\Data\\Eyes_closed_marked\\10174_p01_epoched_EyesOpen_marked.set', \n",
    "                   r'E:\\ChristianMusaeus\\Data\\Eyes_closed_marked\\10175_p01_epoched_EyesOpen_marked.set',\n",
    "                   r'E:\\ChristianMusaeus\\Data\\Eyes_closed_marked\\10188_p01_epoched_EyesOpen_marked.set',\n",
    "                   r'E:\\ChristianMusaeus\\Data\\Eyes_closed_marked\\10189_p01_epoched_EyesOpen_marked.set', \n",
    "                   r'E:\\ChristianMusaeus\\Data\\Eyes_closed_marked\\10190_p01_epoched_EyesOpen_marked.set',\n",
    "                   r'E:\\ChristianMusaeus\\Data\\Eyes_closed_marked\\10192_p01_epoched_EyesOpen_marked.set',\n",
    "                   r'E:\\ChristianMusaeus\\Data\\Eyes_closed_marked\\10193_p01_epoched_EyesOpen_marked.set',\n",
    "                   r'E:\\ChristianMusaeus\\Data\\Eyes_closed_marked\\10194_p01_epoched_EyesOpen_marked.set',\n",
    "                   r'E:\\ChristianMusaeus\\Data\\Eyes_closed_marked\\10195_p01_epoched_EyesOpen_marked.set',\n",
    "                   r'E:\\ChristianMusaeus\\Data\\Eyes_closed_marked\\10203_p01_epoched_EyesOpen_marked.set', \n",
    "                   r'E:\\ChristianMusaeus\\Data\\Eyes_closed_marked\\10204_p01_epoched_EyesOpen_marked.set', \n",
    "                   r'E:\\ChristianMusaeus\\Data\\Eyes_closed_marked\\10207_p01_epoched_EyesOpen_marked.set', \n",
    "                   r'E:\\ChristianMusaeus\\Data\\Eyes_closed_marked\\10209_p01_epoched_EyesOpen_marked.set', \n",
    "                   r'E:\\ChristianMusaeus\\Data\\Eyes_closed_marked\\10213_p01_epoched_EyesOpen_marked.set']\n",
    "eyes_closed_files = [r'E:\\ChristianMusaeus\\Data\\Eyes_closed_marked\\10213_p01_epoched_60EpochsMarked.set',\n",
    "                      r'E:\\ChristianMusaeus\\Data\\Eyes_closed_marked\\10209_p01_epoched_60EpochsMarked.set',\n",
    "                      r'E:\\ChristianMusaeus\\Data\\Eyes_closed_marked\\10207_p01_epoched_60EpochsMarked.set',\n",
    "                      r'E:\\ChristianMusaeus\\Data\\Eyes_closed_marked\\10204_p01_epoched_60EpochsMarked.set',\n",
    "                      r'E:\\ChristianMusaeus\\Data\\Eyes_closed_marked\\10203_p01_epoched_60EpochsMarked.set',\n",
    "                      r'E:\\ChristianMusaeus\\Data\\Eyes_closed_marked\\10195_p01_epoched_60EpochsMarked.set',\n",
    "                      r'E:\\ChristianMusaeus\\Data\\Eyes_closed_marked\\10194_p01_epoched_60EpochsMarked.set',\n",
    "                      r'E:\\ChristianMusaeus\\Data\\Eyes_closed_marked\\10193_p01_epoched_60EpochsMarked.set',\n",
    "                      r'E:\\ChristianMusaeus\\Data\\Eyes_closed_marked\\10192_p01_epoched_60EpochsMarked.set',\n",
    "                      r'E:\\ChristianMusaeus\\Data\\Eyes_closed_marked\\10190_p01_epoched_60EpochsMarked.set',\n",
    "                      r'E:\\ChristianMusaeus\\Data\\Eyes_closed_marked\\10189_p01_epoched_60EpochsMarked.set',\n",
    "                      r'E:\\ChristianMusaeus\\Data\\Eyes_closed_marked\\10188_p01_epoched_60EpochsMarked.set',\n",
    "                      r'E:\\ChristianMusaeus\\Data\\Eyes_closed_marked\\10175_p01_epoched_60EpochsMarked.set',\n",
    "                      r'E:\\ChristianMusaeus\\Data\\Eyes_closed_marked\\10174_p01_epoched_60EpochsMarked.set',\n",
    "                      r'E:\\ChristianMusaeus\\Data\\Eyes_closed_marked\\10171_p01_epoched_60EpochsMarked.set',\n",
    "                      r'E:\\ChristianMusaeus\\Data\\Eyes_closed_marked\\10169_p01_epoched_60EpochsMarked.set',\n",
    "                      r'E:\\ChristianMusaeus\\Data\\Eyes_closed_marked\\10166_p01_epoched_60EpochsMarked.set',\n",
    "                      r'E:\\ChristianMusaeus\\Data\\Eyes_closed_marked\\10165_p01_epoched_60EpochsMarked.set',\n",
    "                      r'E:\\ChristianMusaeus\\Data\\Eyes_closed_marked\\10161_p01_epoched_60EpochsMarked.set',\n",
    "                      r'E:\\ChristianMusaeus\\Data\\Eyes_closed_marked\\10160_p01_epoched_60EpochsMarked.set',\n",
    "                      r'E:\\ChristianMusaeus\\Data\\Eyes_closed_marked\\10158_p01_epoched_60EpochsMarked.set',\n",
    "                      r'E:\\ChristianMusaeus\\Data\\Eyes_closed_marked\\10155_p01_epoched_60EpochsMarked.set',\n",
    "                      r'E:\\ChristianMusaeus\\Data\\Eyes_closed_marked\\10148_p01_epoched_60EpochsMarked.set',\n",
    "                      r'E:\\ChristianMusaeus\\Data\\Eyes_closed_marked\\10142_p01_epoched_60EpochsMarked.set',\n",
    "                      r'E:\\ChristianMusaeus\\Data\\Eyes_closed_marked\\10140_p01_epoched_60EpochsMarked.set',\n",
    "                      r'E:\\ChristianMusaeus\\Data\\Eyes_closed_marked\\10139_p01_epoched_60EpochsMarked.set',\n",
    "                      r'E:\\ChristianMusaeus\\Data\\Eyes_closed_marked\\10138_p01_epoched_60EpochsMarked.set',\n",
    "                      r'E:\\ChristianMusaeus\\Data\\Eyes_closed_marked\\10136_p01_epoched_60EpochsMarked.set',\n",
    "                      r'E:\\ChristianMusaeus\\Data\\Eyes_closed_marked\\10135_p01_epoched_60EpochsMarked.set',\n",
    "                      r'E:\\ChristianMusaeus\\Data\\Eyes_closed_marked\\10135_p01_epoched_60EpochsMarked.set']"
   ]
  },
  {
   "cell_type": "markdown",
   "metadata": {},
   "source": [
    "## Preprocessing the data"
   ]
  },
  {
   "cell_type": "code",
   "execution_count": 21,
   "metadata": {},
   "outputs": [
    {
     "name": "stdout",
     "output_type": "stream",
     "text": [
      "Extracting parameters from E:\\ChristianMusaeus\\Data\\Eyes_closed_marked\\10002_p01_epoched_EyesOpen_marked.set...\n",
      "Not setting metadata\n",
      "1807 matching events found\n",
      "No baseline correction applied\n",
      "0 projection items activated\n",
      "Ready.\n",
      "    Using multitaper spectrum estimation with 7 DPSS windows\n",
      "Extracting parameters from E:\\ChristianMusaeus\\Data\\Eyes_closed_marked\\10135_p01_epoched_EyesOpen_marked.set...\n",
      "Not setting metadata\n",
      "1901 matching events found\n",
      "No baseline correction applied\n",
      "0 projection items activated\n",
      "Ready.\n",
      "    Using multitaper spectrum estimation with 7 DPSS windows\n",
      "Extracting parameters from E:\\ChristianMusaeus\\Data\\Eyes_closed_marked\\10136_p01_epoched_EyesOpen_marked.set...\n",
      "Not setting metadata\n",
      "3123 matching events found\n",
      "No baseline correction applied\n",
      "0 projection items activated\n",
      "Ready.\n",
      "    Using multitaper spectrum estimation with 7 DPSS windows\n",
      "Extracting parameters from E:\\ChristianMusaeus\\Data\\Eyes_closed_marked\\10138_p01_epoched_EyesOpen_marked.set...\n",
      "Not setting metadata\n",
      "1859 matching events found\n",
      "No baseline correction applied\n",
      "0 projection items activated\n",
      "Ready.\n",
      "    Using multitaper spectrum estimation with 7 DPSS windows\n",
      "Extracting parameters from E:\\ChristianMusaeus\\Data\\Eyes_closed_marked\\10139_p01_epoched_EyesOpen_marked.set...\n",
      "Not setting metadata\n",
      "1847 matching events found\n",
      "No baseline correction applied\n",
      "0 projection items activated\n",
      "Ready.\n",
      "    Using multitaper spectrum estimation with 7 DPSS windows\n",
      "Extracting parameters from E:\\ChristianMusaeus\\Data\\Eyes_closed_marked\\10140_p01_epoched_EyesOpen_marked.set...\n",
      "Not setting metadata\n",
      "2736 matching events found\n",
      "No baseline correction applied\n",
      "0 projection items activated\n",
      "Ready.\n",
      "    Using multitaper spectrum estimation with 7 DPSS windows\n",
      "Extracting parameters from E:\\ChristianMusaeus\\Data\\Eyes_closed_marked\\10142_p01_epoched_EyesOpen_marked.set...\n",
      "Not setting metadata\n",
      "2541 matching events found\n",
      "No baseline correction applied\n",
      "0 projection items activated\n",
      "Ready.\n",
      "    Using multitaper spectrum estimation with 7 DPSS windows\n",
      "Extracting parameters from E:\\ChristianMusaeus\\Data\\Eyes_closed_marked\\10148_p01_epoched_EyesOpen_marked.set...\n",
      "Not setting metadata\n",
      "2051 matching events found\n",
      "No baseline correction applied\n",
      "0 projection items activated\n",
      "Ready.\n",
      "    Using multitaper spectrum estimation with 7 DPSS windows\n",
      "Extracting parameters from E:\\ChristianMusaeus\\Data\\Eyes_closed_marked\\10155_p01_epoched_EyesOpen_marked.set...\n",
      "Not setting metadata\n",
      "1911 matching events found\n",
      "No baseline correction applied\n",
      "0 projection items activated\n",
      "Ready.\n",
      "    Using multitaper spectrum estimation with 7 DPSS windows\n",
      "Extracting parameters from E:\\ChristianMusaeus\\Data\\Eyes_closed_marked\\10158_p01_epoched_EyesOpen_marked.set...\n",
      "Not setting metadata\n",
      "3618 matching events found\n",
      "No baseline correction applied\n",
      "0 projection items activated\n",
      "Ready.\n",
      "    Using multitaper spectrum estimation with 7 DPSS windows\n",
      "Extracting parameters from E:\\ChristianMusaeus\\Data\\Eyes_closed_marked\\10160_p01_epoched_EyesOpen_marked.set...\n",
      "Not setting metadata\n",
      "2257 matching events found\n",
      "No baseline correction applied\n",
      "0 projection items activated\n",
      "Ready.\n",
      "    Using multitaper spectrum estimation with 7 DPSS windows\n",
      "Extracting parameters from E:\\ChristianMusaeus\\Data\\Eyes_closed_marked\\10161_p01_epoched_EyesOpen_marked.set...\n",
      "Not setting metadata\n",
      "3043 matching events found\n",
      "No baseline correction applied\n",
      "0 projection items activated\n",
      "Ready.\n",
      "    Using multitaper spectrum estimation with 7 DPSS windows\n",
      "Extracting parameters from E:\\ChristianMusaeus\\Data\\Eyes_closed_marked\\10165_p01_epoched_EyesOpen_marked.set...\n",
      "Not setting metadata\n",
      "3371 matching events found\n",
      "No baseline correction applied\n",
      "0 projection items activated\n",
      "Ready.\n",
      "    Using multitaper spectrum estimation with 7 DPSS windows\n",
      "Extracting parameters from E:\\ChristianMusaeus\\Data\\Eyes_closed_marked\\10166_p01_epoched_EyesOpen_marked.set...\n",
      "Not setting metadata\n",
      "1816 matching events found\n",
      "No baseline correction applied\n",
      "0 projection items activated\n",
      "Ready.\n",
      "    Using multitaper spectrum estimation with 7 DPSS windows\n",
      "Extracting parameters from E:\\ChristianMusaeus\\Data\\Eyes_closed_marked\\10169_p01_epoched_EyesOpen_marked.set...\n",
      "Not setting metadata\n",
      "1864 matching events found\n",
      "No baseline correction applied\n",
      "0 projection items activated\n",
      "Ready.\n",
      "    Using multitaper spectrum estimation with 7 DPSS windows\n",
      "Extracting parameters from E:\\ChristianMusaeus\\Data\\Eyes_closed_marked\\10171_p01_epoched_EyesOpen_marked.set...\n",
      "Not setting metadata\n",
      "1994 matching events found\n",
      "No baseline correction applied\n",
      "0 projection items activated\n",
      "Ready.\n",
      "    Using multitaper spectrum estimation with 7 DPSS windows\n",
      "Extracting parameters from E:\\ChristianMusaeus\\Data\\Eyes_closed_marked\\10174_p01_epoched_EyesOpen_marked.set...\n",
      "Not setting metadata\n",
      "1683 matching events found\n",
      "No baseline correction applied\n",
      "0 projection items activated\n",
      "Ready.\n",
      "    Using multitaper spectrum estimation with 7 DPSS windows\n",
      "Extracting parameters from E:\\ChristianMusaeus\\Data\\Eyes_closed_marked\\10175_p01_epoched_EyesOpen_marked.set...\n",
      "Not setting metadata\n",
      "2592 matching events found\n",
      "No baseline correction applied\n",
      "0 projection items activated\n",
      "Ready.\n",
      "    Using multitaper spectrum estimation with 7 DPSS windows\n",
      "Extracting parameters from E:\\ChristianMusaeus\\Data\\Eyes_closed_marked\\10188_p01_epoched_EyesOpen_marked.set...\n",
      "Not setting metadata\n",
      "2599 matching events found\n",
      "No baseline correction applied\n",
      "0 projection items activated\n",
      "Ready.\n",
      "    Using multitaper spectrum estimation with 7 DPSS windows\n",
      "Extracting parameters from E:\\ChristianMusaeus\\Data\\Eyes_closed_marked\\10189_p01_epoched_EyesOpen_marked.set...\n",
      "Not setting metadata\n",
      "1819 matching events found\n",
      "No baseline correction applied\n",
      "0 projection items activated\n",
      "Ready.\n",
      "    Using multitaper spectrum estimation with 7 DPSS windows\n",
      "Extracting parameters from E:\\ChristianMusaeus\\Data\\Eyes_closed_marked\\10190_p01_epoched_EyesOpen_marked.set...\n",
      "Not setting metadata\n",
      "4234 matching events found\n",
      "No baseline correction applied\n",
      "0 projection items activated\n",
      "Ready.\n",
      "    Using multitaper spectrum estimation with 7 DPSS windows\n",
      "Extracting parameters from E:\\ChristianMusaeus\\Data\\Eyes_closed_marked\\10192_p01_epoched_EyesOpen_marked.set...\n",
      "Not setting metadata\n",
      "1372 matching events found\n",
      "No baseline correction applied\n",
      "0 projection items activated\n",
      "Ready.\n",
      "    Using multitaper spectrum estimation with 7 DPSS windows\n",
      "Extracting parameters from E:\\ChristianMusaeus\\Data\\Eyes_closed_marked\\10193_p01_epoched_EyesOpen_marked.set...\n",
      "Not setting metadata\n",
      "1879 matching events found\n",
      "No baseline correction applied\n",
      "0 projection items activated\n",
      "Ready.\n",
      "    Using multitaper spectrum estimation with 7 DPSS windows\n",
      "Extracting parameters from E:\\ChristianMusaeus\\Data\\Eyes_closed_marked\\10194_p01_epoched_EyesOpen_marked.set...\n",
      "Not setting metadata\n",
      "2212 matching events found\n",
      "No baseline correction applied\n",
      "0 projection items activated\n",
      "Ready.\n",
      "    Using multitaper spectrum estimation with 7 DPSS windows\n",
      "Extracting parameters from E:\\ChristianMusaeus\\Data\\Eyes_closed_marked\\10195_p01_epoched_EyesOpen_marked.set...\n",
      "Not setting metadata\n",
      "816 matching events found\n",
      "No baseline correction applied\n",
      "0 projection items activated\n",
      "Ready.\n",
      "    Using multitaper spectrum estimation with 7 DPSS windows\n",
      "Extracting parameters from E:\\ChristianMusaeus\\Data\\Eyes_closed_marked\\10203_p01_epoched_EyesOpen_marked.set...\n",
      "Not setting metadata\n",
      "1815 matching events found\n",
      "No baseline correction applied\n",
      "0 projection items activated\n",
      "Ready.\n",
      "    Using multitaper spectrum estimation with 7 DPSS windows\n",
      "Extracting parameters from E:\\ChristianMusaeus\\Data\\Eyes_closed_marked\\10204_p01_epoched_EyesOpen_marked.set...\n",
      "Not setting metadata\n",
      "1803 matching events found\n",
      "No baseline correction applied\n",
      "0 projection items activated\n",
      "Ready.\n",
      "    Using multitaper spectrum estimation with 7 DPSS windows\n",
      "Extracting parameters from E:\\ChristianMusaeus\\Data\\Eyes_closed_marked\\10207_p01_epoched_EyesOpen_marked.set...\n",
      "Not setting metadata\n",
      "1809 matching events found\n",
      "No baseline correction applied\n",
      "0 projection items activated\n",
      "Ready.\n",
      "    Using multitaper spectrum estimation with 7 DPSS windows\n",
      "Extracting parameters from E:\\ChristianMusaeus\\Data\\Eyes_closed_marked\\10209_p01_epoched_EyesOpen_marked.set...\n",
      "Not setting metadata\n",
      "1810 matching events found\n",
      "No baseline correction applied\n",
      "0 projection items activated\n",
      "Ready.\n",
      "    Using multitaper spectrum estimation with 7 DPSS windows\n",
      "Extracting parameters from E:\\ChristianMusaeus\\Data\\Eyes_closed_marked\\10213_p01_epoched_EyesOpen_marked.set...\n",
      "Not setting metadata\n",
      "1911 matching events found\n",
      "No baseline correction applied\n",
      "0 projection items activated\n",
      "Ready.\n",
      "    Using multitaper spectrum estimation with 7 DPSS windows\n",
      "Extracting parameters from E:\\ChristianMusaeus\\Data\\Eyes_closed_marked\\10213_p01_epoched_60EpochsMarked.set...\n",
      "Not setting metadata\n",
      "1911 matching events found\n",
      "No baseline correction applied\n",
      "0 projection items activated\n",
      "Ready.\n",
      "    Using multitaper spectrum estimation with 7 DPSS windows\n",
      "Extracting parameters from E:\\ChristianMusaeus\\Data\\Eyes_closed_marked\\10209_p01_epoched_60EpochsMarked.set...\n",
      "Not setting metadata\n",
      "1810 matching events found\n",
      "No baseline correction applied\n",
      "0 projection items activated\n",
      "Ready.\n",
      "    Using multitaper spectrum estimation with 7 DPSS windows\n",
      "Extracting parameters from E:\\ChristianMusaeus\\Data\\Eyes_closed_marked\\10207_p01_epoched_60EpochsMarked.set...\n",
      "Not setting metadata\n",
      "1809 matching events found\n",
      "No baseline correction applied\n",
      "0 projection items activated\n",
      "Ready.\n",
      "    Using multitaper spectrum estimation with 7 DPSS windows\n",
      "Extracting parameters from E:\\ChristianMusaeus\\Data\\Eyes_closed_marked\\10204_p01_epoched_60EpochsMarked.set...\n",
      "Not setting metadata\n",
      "1803 matching events found\n",
      "No baseline correction applied\n",
      "0 projection items activated\n",
      "Ready.\n",
      "    Using multitaper spectrum estimation with 7 DPSS windows\n",
      "Extracting parameters from E:\\ChristianMusaeus\\Data\\Eyes_closed_marked\\10203_p01_epoched_60EpochsMarked.set...\n",
      "Not setting metadata\n",
      "1815 matching events found\n",
      "No baseline correction applied\n",
      "0 projection items activated\n",
      "Ready.\n",
      "    Using multitaper spectrum estimation with 7 DPSS windows\n",
      "Extracting parameters from E:\\ChristianMusaeus\\Data\\Eyes_closed_marked\\10195_p01_epoched_60EpochsMarked.set...\n",
      "Not setting metadata\n",
      "816 matching events found\n",
      "No baseline correction applied\n",
      "0 projection items activated\n",
      "Ready.\n",
      "    Using multitaper spectrum estimation with 7 DPSS windows\n",
      "Extracting parameters from E:\\ChristianMusaeus\\Data\\Eyes_closed_marked\\10194_p01_epoched_60EpochsMarked.set...\n",
      "Not setting metadata\n",
      "2212 matching events found\n",
      "No baseline correction applied\n",
      "0 projection items activated\n",
      "Ready.\n",
      "    Using multitaper spectrum estimation with 7 DPSS windows\n",
      "Extracting parameters from E:\\ChristianMusaeus\\Data\\Eyes_closed_marked\\10193_p01_epoched_60EpochsMarked.set...\n",
      "Not setting metadata\n",
      "1879 matching events found\n",
      "No baseline correction applied\n",
      "0 projection items activated\n",
      "Ready.\n",
      "    Using multitaper spectrum estimation with 7 DPSS windows\n",
      "Extracting parameters from E:\\ChristianMusaeus\\Data\\Eyes_closed_marked\\10192_p01_epoched_60EpochsMarked.set...\n",
      "Not setting metadata\n",
      "1372 matching events found\n",
      "No baseline correction applied\n",
      "0 projection items activated\n",
      "Ready.\n",
      "    Using multitaper spectrum estimation with 7 DPSS windows\n",
      "Extracting parameters from E:\\ChristianMusaeus\\Data\\Eyes_closed_marked\\10190_p01_epoched_60EpochsMarked.set...\n",
      "Not setting metadata\n",
      "4234 matching events found\n",
      "No baseline correction applied\n",
      "0 projection items activated\n",
      "Ready.\n",
      "    Using multitaper spectrum estimation with 7 DPSS windows\n",
      "Extracting parameters from E:\\ChristianMusaeus\\Data\\Eyes_closed_marked\\10189_p01_epoched_60EpochsMarked.set...\n",
      "Not setting metadata\n",
      "1819 matching events found\n",
      "No baseline correction applied\n",
      "0 projection items activated\n",
      "Ready.\n",
      "    Using multitaper spectrum estimation with 7 DPSS windows\n",
      "Extracting parameters from E:\\ChristianMusaeus\\Data\\Eyes_closed_marked\\10188_p01_epoched_60EpochsMarked.set...\n",
      "Not setting metadata\n",
      "2599 matching events found\n",
      "No baseline correction applied\n",
      "0 projection items activated\n",
      "Ready.\n",
      "    Using multitaper spectrum estimation with 7 DPSS windows\n",
      "Extracting parameters from E:\\ChristianMusaeus\\Data\\Eyes_closed_marked\\10175_p01_epoched_60EpochsMarked.set...\n",
      "Not setting metadata\n",
      "2592 matching events found\n",
      "No baseline correction applied\n",
      "0 projection items activated\n",
      "Ready.\n",
      "    Using multitaper spectrum estimation with 7 DPSS windows\n",
      "Extracting parameters from E:\\ChristianMusaeus\\Data\\Eyes_closed_marked\\10174_p01_epoched_60EpochsMarked.set...\n",
      "Not setting metadata\n",
      "1683 matching events found\n",
      "No baseline correction applied\n",
      "0 projection items activated\n",
      "Ready.\n",
      "    Using multitaper spectrum estimation with 7 DPSS windows\n",
      "Extracting parameters from E:\\ChristianMusaeus\\Data\\Eyes_closed_marked\\10171_p01_epoched_60EpochsMarked.set...\n",
      "Not setting metadata\n",
      "1994 matching events found\n",
      "No baseline correction applied\n",
      "0 projection items activated\n",
      "Ready.\n",
      "    Using multitaper spectrum estimation with 7 DPSS windows\n",
      "Extracting parameters from E:\\ChristianMusaeus\\Data\\Eyes_closed_marked\\10169_p01_epoched_60EpochsMarked.set...\n",
      "Not setting metadata\n",
      "1864 matching events found\n",
      "No baseline correction applied\n",
      "0 projection items activated\n",
      "Ready.\n",
      "    Using multitaper spectrum estimation with 7 DPSS windows\n",
      "Extracting parameters from E:\\ChristianMusaeus\\Data\\Eyes_closed_marked\\10166_p01_epoched_60EpochsMarked.set...\n",
      "Not setting metadata\n",
      "1816 matching events found\n",
      "No baseline correction applied\n",
      "0 projection items activated\n",
      "Ready.\n",
      "    Using multitaper spectrum estimation with 7 DPSS windows\n",
      "Extracting parameters from E:\\ChristianMusaeus\\Data\\Eyes_closed_marked\\10165_p01_epoched_60EpochsMarked.set...\n",
      "Not setting metadata\n",
      "3371 matching events found\n",
      "No baseline correction applied\n",
      "0 projection items activated\n",
      "Ready.\n",
      "    Using multitaper spectrum estimation with 7 DPSS windows\n",
      "Extracting parameters from E:\\ChristianMusaeus\\Data\\Eyes_closed_marked\\10161_p01_epoched_60EpochsMarked.set...\n",
      "Not setting metadata\n",
      "3043 matching events found\n",
      "No baseline correction applied\n",
      "0 projection items activated\n",
      "Ready.\n",
      "    Using multitaper spectrum estimation with 7 DPSS windows\n",
      "Extracting parameters from E:\\ChristianMusaeus\\Data\\Eyes_closed_marked\\10160_p01_epoched_60EpochsMarked.set...\n",
      "Not setting metadata\n",
      "2257 matching events found\n",
      "No baseline correction applied\n",
      "0 projection items activated\n",
      "Ready.\n",
      "    Using multitaper spectrum estimation with 7 DPSS windows\n",
      "Extracting parameters from E:\\ChristianMusaeus\\Data\\Eyes_closed_marked\\10158_p01_epoched_60EpochsMarked.set...\n",
      "Not setting metadata\n",
      "3618 matching events found\n",
      "No baseline correction applied\n",
      "0 projection items activated\n",
      "Ready.\n",
      "    Using multitaper spectrum estimation with 7 DPSS windows\n",
      "Extracting parameters from E:\\ChristianMusaeus\\Data\\Eyes_closed_marked\\10155_p01_epoched_60EpochsMarked.set...\n",
      "Not setting metadata\n",
      "1911 matching events found\n",
      "No baseline correction applied\n",
      "0 projection items activated\n",
      "Ready.\n",
      "    Using multitaper spectrum estimation with 7 DPSS windows\n",
      "Extracting parameters from E:\\ChristianMusaeus\\Data\\Eyes_closed_marked\\10148_p01_epoched_60EpochsMarked.set...\n",
      "Not setting metadata\n",
      "2051 matching events found\n",
      "No baseline correction applied\n",
      "0 projection items activated\n",
      "Ready.\n",
      "    Using multitaper spectrum estimation with 7 DPSS windows\n",
      "Extracting parameters from E:\\ChristianMusaeus\\Data\\Eyes_closed_marked\\10142_p01_epoched_60EpochsMarked.set...\n",
      "Not setting metadata\n",
      "2541 matching events found\n",
      "No baseline correction applied\n",
      "0 projection items activated\n",
      "Ready.\n",
      "    Using multitaper spectrum estimation with 7 DPSS windows\n",
      "Extracting parameters from E:\\ChristianMusaeus\\Data\\Eyes_closed_marked\\10140_p01_epoched_60EpochsMarked.set...\n",
      "Not setting metadata\n",
      "2736 matching events found\n",
      "No baseline correction applied\n",
      "0 projection items activated\n",
      "Ready.\n",
      "    Using multitaper spectrum estimation with 7 DPSS windows\n",
      "Extracting parameters from E:\\ChristianMusaeus\\Data\\Eyes_closed_marked\\10139_p01_epoched_60EpochsMarked.set...\n",
      "Not setting metadata\n",
      "1847 matching events found\n",
      "No baseline correction applied\n",
      "0 projection items activated\n",
      "Ready.\n",
      "    Using multitaper spectrum estimation with 7 DPSS windows\n",
      "Extracting parameters from E:\\ChristianMusaeus\\Data\\Eyes_closed_marked\\10138_p01_epoched_60EpochsMarked.set...\n",
      "Not setting metadata\n",
      "1859 matching events found\n",
      "No baseline correction applied\n",
      "0 projection items activated\n",
      "Ready.\n",
      "    Using multitaper spectrum estimation with 7 DPSS windows\n",
      "Extracting parameters from E:\\ChristianMusaeus\\Data\\Eyes_closed_marked\\10136_p01_epoched_60EpochsMarked.set...\n",
      "Not setting metadata\n",
      "3123 matching events found\n",
      "No baseline correction applied\n",
      "0 projection items activated\n",
      "Ready.\n",
      "    Using multitaper spectrum estimation with 7 DPSS windows\n",
      "Extracting parameters from E:\\ChristianMusaeus\\Data\\Eyes_closed_marked\\10135_p01_epoched_60EpochsMarked.set...\n",
      "Not setting metadata\n",
      "1901 matching events found\n",
      "No baseline correction applied\n",
      "0 projection items activated\n",
      "Ready.\n",
      "    Using multitaper spectrum estimation with 7 DPSS windows\n",
      "Extracting parameters from E:\\ChristianMusaeus\\Data\\Eyes_closed_marked\\10135_p01_epoched_60EpochsMarked.set...\n",
      "Not setting metadata\n",
      "1901 matching events found\n",
      "No baseline correction applied\n",
      "0 projection items activated\n",
      "Ready.\n",
      "    Using multitaper spectrum estimation with 7 DPSS windows\n",
      "[10002 10002 10002 ... 10135 10135 10135]\n"
     ]
    }
   ],
   "source": [
    "set_files = eyes_open_files+eyes_closed_files\n",
    "\n",
    "# Initialize empty lists to hold the data and labels\n",
    "X_list = []  # Features (PSD data)\n",
    "y_list = []  # Labels (eyes-open/eyes-closed)    \n",
    "subject_ids = []\n",
    "\n",
    "\n",
    "# Loop through each .set file (subject)\n",
    "for file in set_files:\n",
    "    # Load the .set file for the subject\n",
    "    epochs = mne.io.read_epochs_eeglab(file)\n",
    "    \n",
    "    # 2. Load .set data as MATLAB struct\n",
    "    mat = loadmat(file, struct_as_record=False, squeeze_me=True)\n",
    "    rejmanual = mat['reject'].rejmanual  # array of 0 and 1\n",
    "\n",
    "    # Brug det som labels direkte (0 = eyes closed)\n",
    "    labels = np.array(rejmanual, dtype=int)\n",
    "\n",
    "    # Compute the PSD for the current subject\n",
    "    psd = epochs.compute_psd()\n",
    "\n",
    "    # Get the PSD data and reshape it (flatten the 3D array to 2D for logistic regression)\n",
    "    psd_data = psd.get_data()  # Shape: (n_epochs, n_channels, n_freqs)\n",
    "\n",
    "    # checking and deleting epochs with missing values in psd data\n",
    "    nan_epochs = np.isnan(psd_data).any(axis=(1,2))\n",
    "    psd_data_cleaned = psd_data[~nan_epochs]\n",
    "    labels_cleaned = labels[~nan_epochs]\n",
    "\n",
    "    # extracting marked epochs \n",
    "    eyes_marked = labels_cleaned == 0\n",
    "    psd_data_marked = psd_data_cleaned[eyes_marked]\n",
    "\n",
    "    # assign labels based on file type\n",
    "    if file in eyes_closed_files:\n",
    "        final_labels = np.ones(psd_data_marked.shape[0], dtype=int)\n",
    "    else:\n",
    "        final_labels = np.zeros(psd_data_marked.shape[0], dtype=int)\n",
    "\n",
    "    # flattening the data into a 2 dimensional matrix \n",
    "    psd_data_final = psd_data_marked.reshape(psd_data_marked.shape[0], -1)  # Shape: (n_epochs, n_channels * n_freqs)\n",
    "\n",
    "    # Append the reshaped data to the list of features\n",
    "    X_list.append(psd_data_final)\n",
    "    y_list.append(final_labels)\n",
    "\n",
    "    # Extract numeric subject ID (e.g. 10136) from the file path\n",
    "    match = re.search(r'\\\\(\\d{5})_', file)\n",
    "    if match:\n",
    "        subject_id = int(match.group(1))\n",
    "    else:\n",
    "        raise ValueError(f\"Could not extract subject ID from path: {file}\")\n",
    "\n",
    "    # After creating psd_data_final\n",
    "    subject_ids.extend([subject_id] * psd_data_final.shape[0])\n",
    "\n",
    "\n",
    "# Concatenate data from all 10 subjects into one large dataset\n",
    "X_combined = np.vstack(X_list)  # Shape: (total_epochs, n_channels * n_freqs)\n",
    "y_combined = np.hstack(y_list)  # Shape: (total_epochs,)\n",
    "subject_ids = np.array(subject_ids)\n",
    "\n",
    "print(subject_ids)\n"
   ]
  },
  {
   "cell_type": "markdown",
   "metadata": {},
   "source": [
    "# SVM"
   ]
  },
  {
   "cell_type": "code",
   "execution_count": 23,
   "metadata": {},
   "outputs": [
    {
     "name": "stdout",
     "output_type": "stream",
     "text": [
      "Processing fold 1/30...\n"
     ]
    },
    {
     "name": "stderr",
     "output_type": "stream",
     "text": [
      "C:\\Users\\TMS-EEG\\AppData\\Local\\Packages\\PythonSoftwareFoundation.Python.3.11_qbz5n2kfra8p0\\LocalCache\\local-packages\\Python311\\site-packages\\sklearn\\model_selection\\_search.py:1108: UserWarning: One or more of the test scores are non-finite: [nan nan nan]\n",
      "  warnings.warn(\n"
     ]
    },
    {
     "name": "stdout",
     "output_type": "stream",
     "text": [
      "  Best Params: {'C': 0.1, 'kernel': 'rbf'}\n"
     ]
    },
    {
     "name": "stderr",
     "output_type": "stream",
     "text": [
      "C:\\Users\\TMS-EEG\\AppData\\Local\\Packages\\PythonSoftwareFoundation.Python.3.11_qbz5n2kfra8p0\\LocalCache\\local-packages\\Python311\\site-packages\\sklearn\\calibration.py:333: UserWarning: The `cv='prefit'` option is deprecated in 1.6 and will be removed in 1.8. You can use CalibratedClassifierCV(FrozenEstimator(estimator)) instead.\n",
      "  warnings.warn(\n"
     ]
    },
    {
     "name": "stdout",
     "output_type": "stream",
     "text": [
      "Fold 1 - Log Loss: 3.4887, Accuracy: 0.0233\n",
      "Processing fold 2/30...\n"
     ]
    },
    {
     "name": "stderr",
     "output_type": "stream",
     "text": [
      "C:\\Users\\TMS-EEG\\AppData\\Local\\Packages\\PythonSoftwareFoundation.Python.3.11_qbz5n2kfra8p0\\LocalCache\\local-packages\\Python311\\site-packages\\sklearn\\model_selection\\_search.py:1108: UserWarning: One or more of the test scores are non-finite: [nan nan nan]\n",
      "  warnings.warn(\n"
     ]
    },
    {
     "name": "stdout",
     "output_type": "stream",
     "text": [
      "  Best Params: {'C': 0.1, 'kernel': 'rbf'}\n"
     ]
    },
    {
     "name": "stderr",
     "output_type": "stream",
     "text": [
      "C:\\Users\\TMS-EEG\\AppData\\Local\\Packages\\PythonSoftwareFoundation.Python.3.11_qbz5n2kfra8p0\\LocalCache\\local-packages\\Python311\\site-packages\\sklearn\\calibration.py:333: UserWarning: The `cv='prefit'` option is deprecated in 1.6 and will be removed in 1.8. You can use CalibratedClassifierCV(FrozenEstimator(estimator)) instead.\n",
      "  warnings.warn(\n"
     ]
    },
    {
     "name": "stdout",
     "output_type": "stream",
     "text": [
      "Fold 2 - Log Loss: 0.3134, Accuracy: 0.8729\n",
      "Processing fold 3/30...\n"
     ]
    },
    {
     "name": "stderr",
     "output_type": "stream",
     "text": [
      "C:\\Users\\TMS-EEG\\AppData\\Local\\Packages\\PythonSoftwareFoundation.Python.3.11_qbz5n2kfra8p0\\LocalCache\\local-packages\\Python311\\site-packages\\sklearn\\model_selection\\_search.py:1108: UserWarning: One or more of the test scores are non-finite: [nan nan nan]\n",
      "  warnings.warn(\n"
     ]
    },
    {
     "name": "stdout",
     "output_type": "stream",
     "text": [
      "  Best Params: {'C': 0.1, 'kernel': 'rbf'}\n"
     ]
    },
    {
     "name": "stderr",
     "output_type": "stream",
     "text": [
      "C:\\Users\\TMS-EEG\\AppData\\Local\\Packages\\PythonSoftwareFoundation.Python.3.11_qbz5n2kfra8p0\\LocalCache\\local-packages\\Python311\\site-packages\\sklearn\\calibration.py:333: UserWarning: The `cv='prefit'` option is deprecated in 1.6 and will be removed in 1.8. You can use CalibratedClassifierCV(FrozenEstimator(estimator)) instead.\n",
      "  warnings.warn(\n"
     ]
    },
    {
     "name": "stdout",
     "output_type": "stream",
     "text": [
      "Fold 3 - Log Loss: 0.1767, Accuracy: 0.9620\n",
      "Processing fold 4/30...\n"
     ]
    },
    {
     "name": "stderr",
     "output_type": "stream",
     "text": [
      "C:\\Users\\TMS-EEG\\AppData\\Local\\Packages\\PythonSoftwareFoundation.Python.3.11_qbz5n2kfra8p0\\LocalCache\\local-packages\\Python311\\site-packages\\sklearn\\model_selection\\_search.py:1108: UserWarning: One or more of the test scores are non-finite: [nan nan nan]\n",
      "  warnings.warn(\n"
     ]
    },
    {
     "name": "stdout",
     "output_type": "stream",
     "text": [
      "  Best Params: {'C': 0.1, 'kernel': 'rbf'}\n"
     ]
    },
    {
     "name": "stderr",
     "output_type": "stream",
     "text": [
      "C:\\Users\\TMS-EEG\\AppData\\Local\\Packages\\PythonSoftwareFoundation.Python.3.11_qbz5n2kfra8p0\\LocalCache\\local-packages\\Python311\\site-packages\\sklearn\\calibration.py:333: UserWarning: The `cv='prefit'` option is deprecated in 1.6 and will be removed in 1.8. You can use CalibratedClassifierCV(FrozenEstimator(estimator)) instead.\n",
      "  warnings.warn(\n"
     ]
    },
    {
     "name": "stdout",
     "output_type": "stream",
     "text": [
      "Fold 4 - Log Loss: 0.5004, Accuracy: 0.7812\n",
      "Processing fold 5/30...\n"
     ]
    },
    {
     "name": "stderr",
     "output_type": "stream",
     "text": [
      "C:\\Users\\TMS-EEG\\AppData\\Local\\Packages\\PythonSoftwareFoundation.Python.3.11_qbz5n2kfra8p0\\LocalCache\\local-packages\\Python311\\site-packages\\sklearn\\model_selection\\_search.py:1108: UserWarning: One or more of the test scores are non-finite: [nan nan nan]\n",
      "  warnings.warn(\n"
     ]
    },
    {
     "name": "stdout",
     "output_type": "stream",
     "text": [
      "  Best Params: {'C': 0.1, 'kernel': 'rbf'}\n"
     ]
    },
    {
     "name": "stderr",
     "output_type": "stream",
     "text": [
      "C:\\Users\\TMS-EEG\\AppData\\Local\\Packages\\PythonSoftwareFoundation.Python.3.11_qbz5n2kfra8p0\\LocalCache\\local-packages\\Python311\\site-packages\\sklearn\\calibration.py:333: UserWarning: The `cv='prefit'` option is deprecated in 1.6 and will be removed in 1.8. You can use CalibratedClassifierCV(FrozenEstimator(estimator)) instead.\n",
      "  warnings.warn(\n"
     ]
    },
    {
     "name": "stdout",
     "output_type": "stream",
     "text": [
      "Fold 5 - Log Loss: 0.5424, Accuracy: 0.7895\n",
      "Processing fold 6/30...\n"
     ]
    },
    {
     "name": "stderr",
     "output_type": "stream",
     "text": [
      "C:\\Users\\TMS-EEG\\AppData\\Local\\Packages\\PythonSoftwareFoundation.Python.3.11_qbz5n2kfra8p0\\LocalCache\\local-packages\\Python311\\site-packages\\sklearn\\model_selection\\_search.py:1108: UserWarning: One or more of the test scores are non-finite: [nan nan nan]\n",
      "  warnings.warn(\n"
     ]
    },
    {
     "name": "stdout",
     "output_type": "stream",
     "text": [
      "  Best Params: {'C': 0.1, 'kernel': 'rbf'}\n"
     ]
    },
    {
     "name": "stderr",
     "output_type": "stream",
     "text": [
      "C:\\Users\\TMS-EEG\\AppData\\Local\\Packages\\PythonSoftwareFoundation.Python.3.11_qbz5n2kfra8p0\\LocalCache\\local-packages\\Python311\\site-packages\\sklearn\\calibration.py:333: UserWarning: The `cv='prefit'` option is deprecated in 1.6 and will be removed in 1.8. You can use CalibratedClassifierCV(FrozenEstimator(estimator)) instead.\n",
      "  warnings.warn(\n"
     ]
    },
    {
     "name": "stdout",
     "output_type": "stream",
     "text": [
      "Fold 6 - Log Loss: 0.1064, Accuracy: 0.9863\n",
      "Processing fold 7/30...\n"
     ]
    },
    {
     "name": "stderr",
     "output_type": "stream",
     "text": [
      "C:\\Users\\TMS-EEG\\AppData\\Local\\Packages\\PythonSoftwareFoundation.Python.3.11_qbz5n2kfra8p0\\LocalCache\\local-packages\\Python311\\site-packages\\sklearn\\model_selection\\_search.py:1108: UserWarning: One or more of the test scores are non-finite: [nan nan nan]\n",
      "  warnings.warn(\n"
     ]
    },
    {
     "name": "stdout",
     "output_type": "stream",
     "text": [
      "  Best Params: {'C': 0.1, 'kernel': 'rbf'}\n"
     ]
    },
    {
     "name": "stderr",
     "output_type": "stream",
     "text": [
      "C:\\Users\\TMS-EEG\\AppData\\Local\\Packages\\PythonSoftwareFoundation.Python.3.11_qbz5n2kfra8p0\\LocalCache\\local-packages\\Python311\\site-packages\\sklearn\\calibration.py:333: UserWarning: The `cv='prefit'` option is deprecated in 1.6 and will be removed in 1.8. You can use CalibratedClassifierCV(FrozenEstimator(estimator)) instead.\n",
      "  warnings.warn(\n"
     ]
    },
    {
     "name": "stdout",
     "output_type": "stream",
     "text": [
      "Fold 7 - Log Loss: 0.2038, Accuracy: 0.9808\n",
      "Processing fold 8/30...\n"
     ]
    },
    {
     "name": "stderr",
     "output_type": "stream",
     "text": [
      "C:\\Users\\TMS-EEG\\AppData\\Local\\Packages\\PythonSoftwareFoundation.Python.3.11_qbz5n2kfra8p0\\LocalCache\\local-packages\\Python311\\site-packages\\sklearn\\model_selection\\_search.py:1108: UserWarning: One or more of the test scores are non-finite: [nan nan nan]\n",
      "  warnings.warn(\n"
     ]
    },
    {
     "name": "stdout",
     "output_type": "stream",
     "text": [
      "  Best Params: {'C': 0.1, 'kernel': 'rbf'}\n"
     ]
    },
    {
     "name": "stderr",
     "output_type": "stream",
     "text": [
      "C:\\Users\\TMS-EEG\\AppData\\Local\\Packages\\PythonSoftwareFoundation.Python.3.11_qbz5n2kfra8p0\\LocalCache\\local-packages\\Python311\\site-packages\\sklearn\\calibration.py:333: UserWarning: The `cv='prefit'` option is deprecated in 1.6 and will be removed in 1.8. You can use CalibratedClassifierCV(FrozenEstimator(estimator)) instead.\n",
      "  warnings.warn(\n"
     ]
    },
    {
     "name": "stdout",
     "output_type": "stream",
     "text": [
      "Fold 8 - Log Loss: 0.1286, Accuracy: 0.9863\n",
      "Processing fold 9/30...\n"
     ]
    },
    {
     "name": "stderr",
     "output_type": "stream",
     "text": [
      "C:\\Users\\TMS-EEG\\AppData\\Local\\Packages\\PythonSoftwareFoundation.Python.3.11_qbz5n2kfra8p0\\LocalCache\\local-packages\\Python311\\site-packages\\sklearn\\model_selection\\_search.py:1108: UserWarning: One or more of the test scores are non-finite: [nan nan nan]\n",
      "  warnings.warn(\n"
     ]
    },
    {
     "name": "stdout",
     "output_type": "stream",
     "text": [
      "  Best Params: {'C': 0.1, 'kernel': 'rbf'}\n"
     ]
    },
    {
     "name": "stderr",
     "output_type": "stream",
     "text": [
      "C:\\Users\\TMS-EEG\\AppData\\Local\\Packages\\PythonSoftwareFoundation.Python.3.11_qbz5n2kfra8p0\\LocalCache\\local-packages\\Python311\\site-packages\\sklearn\\calibration.py:333: UserWarning: The `cv='prefit'` option is deprecated in 1.6 and will be removed in 1.8. You can use CalibratedClassifierCV(FrozenEstimator(estimator)) instead.\n",
      "  warnings.warn(\n"
     ]
    },
    {
     "name": "stdout",
     "output_type": "stream",
     "text": [
      "Fold 9 - Log Loss: 0.1170, Accuracy: 0.9902\n",
      "Processing fold 10/30...\n"
     ]
    },
    {
     "name": "stderr",
     "output_type": "stream",
     "text": [
      "C:\\Users\\TMS-EEG\\AppData\\Local\\Packages\\PythonSoftwareFoundation.Python.3.11_qbz5n2kfra8p0\\LocalCache\\local-packages\\Python311\\site-packages\\sklearn\\model_selection\\_search.py:1108: UserWarning: One or more of the test scores are non-finite: [nan nan nan]\n",
      "  warnings.warn(\n"
     ]
    },
    {
     "name": "stdout",
     "output_type": "stream",
     "text": [
      "  Best Params: {'C': 0.1, 'kernel': 'rbf'}\n"
     ]
    },
    {
     "name": "stderr",
     "output_type": "stream",
     "text": [
      "C:\\Users\\TMS-EEG\\AppData\\Local\\Packages\\PythonSoftwareFoundation.Python.3.11_qbz5n2kfra8p0\\LocalCache\\local-packages\\Python311\\site-packages\\sklearn\\calibration.py:333: UserWarning: The `cv='prefit'` option is deprecated in 1.6 and will be removed in 1.8. You can use CalibratedClassifierCV(FrozenEstimator(estimator)) instead.\n",
      "  warnings.warn(\n"
     ]
    },
    {
     "name": "stdout",
     "output_type": "stream",
     "text": [
      "Fold 10 - Log Loss: 0.5047, Accuracy: 0.8052\n",
      "Processing fold 11/30...\n"
     ]
    },
    {
     "name": "stderr",
     "output_type": "stream",
     "text": [
      "C:\\Users\\TMS-EEG\\AppData\\Local\\Packages\\PythonSoftwareFoundation.Python.3.11_qbz5n2kfra8p0\\LocalCache\\local-packages\\Python311\\site-packages\\sklearn\\model_selection\\_search.py:1108: UserWarning: One or more of the test scores are non-finite: [nan nan nan]\n",
      "  warnings.warn(\n"
     ]
    },
    {
     "name": "stdout",
     "output_type": "stream",
     "text": [
      "  Best Params: {'C': 0.1, 'kernel': 'rbf'}\n"
     ]
    },
    {
     "name": "stderr",
     "output_type": "stream",
     "text": [
      "C:\\Users\\TMS-EEG\\AppData\\Local\\Packages\\PythonSoftwareFoundation.Python.3.11_qbz5n2kfra8p0\\LocalCache\\local-packages\\Python311\\site-packages\\sklearn\\calibration.py:333: UserWarning: The `cv='prefit'` option is deprecated in 1.6 and will be removed in 1.8. You can use CalibratedClassifierCV(FrozenEstimator(estimator)) instead.\n",
      "  warnings.warn(\n"
     ]
    },
    {
     "name": "stdout",
     "output_type": "stream",
     "text": [
      "Fold 11 - Log Loss: 0.4752, Accuracy: 0.7037\n",
      "Processing fold 12/30...\n"
     ]
    },
    {
     "name": "stderr",
     "output_type": "stream",
     "text": [
      "C:\\Users\\TMS-EEG\\AppData\\Local\\Packages\\PythonSoftwareFoundation.Python.3.11_qbz5n2kfra8p0\\LocalCache\\local-packages\\Python311\\site-packages\\sklearn\\model_selection\\_search.py:1108: UserWarning: One or more of the test scores are non-finite: [nan nan nan]\n",
      "  warnings.warn(\n"
     ]
    },
    {
     "name": "stdout",
     "output_type": "stream",
     "text": [
      "  Best Params: {'C': 0.1, 'kernel': 'rbf'}\n"
     ]
    },
    {
     "name": "stderr",
     "output_type": "stream",
     "text": [
      "C:\\Users\\TMS-EEG\\AppData\\Local\\Packages\\PythonSoftwareFoundation.Python.3.11_qbz5n2kfra8p0\\LocalCache\\local-packages\\Python311\\site-packages\\sklearn\\calibration.py:333: UserWarning: The `cv='prefit'` option is deprecated in 1.6 and will be removed in 1.8. You can use CalibratedClassifierCV(FrozenEstimator(estimator)) instead.\n",
      "  warnings.warn(\n"
     ]
    },
    {
     "name": "stdout",
     "output_type": "stream",
     "text": [
      "Fold 12 - Log Loss: 0.4669, Accuracy: 0.7582\n",
      "Processing fold 13/30...\n"
     ]
    },
    {
     "name": "stderr",
     "output_type": "stream",
     "text": [
      "C:\\Users\\TMS-EEG\\AppData\\Local\\Packages\\PythonSoftwareFoundation.Python.3.11_qbz5n2kfra8p0\\LocalCache\\local-packages\\Python311\\site-packages\\sklearn\\model_selection\\_search.py:1108: UserWarning: One or more of the test scores are non-finite: [nan nan nan]\n",
      "  warnings.warn(\n"
     ]
    },
    {
     "name": "stdout",
     "output_type": "stream",
     "text": [
      "  Best Params: {'C': 0.1, 'kernel': 'rbf'}\n"
     ]
    },
    {
     "name": "stderr",
     "output_type": "stream",
     "text": [
      "C:\\Users\\TMS-EEG\\AppData\\Local\\Packages\\PythonSoftwareFoundation.Python.3.11_qbz5n2kfra8p0\\LocalCache\\local-packages\\Python311\\site-packages\\sklearn\\calibration.py:333: UserWarning: The `cv='prefit'` option is deprecated in 1.6 and will be removed in 1.8. You can use CalibratedClassifierCV(FrozenEstimator(estimator)) instead.\n",
      "  warnings.warn(\n"
     ]
    },
    {
     "name": "stdout",
     "output_type": "stream",
     "text": [
      "Fold 13 - Log Loss: 0.4099, Accuracy: 0.8171\n",
      "Processing fold 14/30...\n"
     ]
    },
    {
     "name": "stderr",
     "output_type": "stream",
     "text": [
      "C:\\Users\\TMS-EEG\\AppData\\Local\\Packages\\PythonSoftwareFoundation.Python.3.11_qbz5n2kfra8p0\\LocalCache\\local-packages\\Python311\\site-packages\\sklearn\\model_selection\\_search.py:1108: UserWarning: One or more of the test scores are non-finite: [nan nan nan]\n",
      "  warnings.warn(\n"
     ]
    },
    {
     "name": "stdout",
     "output_type": "stream",
     "text": [
      "  Best Params: {'C': 0.1, 'kernel': 'rbf'}\n"
     ]
    },
    {
     "name": "stderr",
     "output_type": "stream",
     "text": [
      "C:\\Users\\TMS-EEG\\AppData\\Local\\Packages\\PythonSoftwareFoundation.Python.3.11_qbz5n2kfra8p0\\LocalCache\\local-packages\\Python311\\site-packages\\sklearn\\calibration.py:333: UserWarning: The `cv='prefit'` option is deprecated in 1.6 and will be removed in 1.8. You can use CalibratedClassifierCV(FrozenEstimator(estimator)) instead.\n",
      "  warnings.warn(\n"
     ]
    },
    {
     "name": "stdout",
     "output_type": "stream",
     "text": [
      "Fold 14 - Log Loss: 0.4883, Accuracy: 0.8058\n",
      "Processing fold 15/30...\n"
     ]
    },
    {
     "name": "stderr",
     "output_type": "stream",
     "text": [
      "C:\\Users\\TMS-EEG\\AppData\\Local\\Packages\\PythonSoftwareFoundation.Python.3.11_qbz5n2kfra8p0\\LocalCache\\local-packages\\Python311\\site-packages\\sklearn\\model_selection\\_search.py:1108: UserWarning: One or more of the test scores are non-finite: [nan nan nan]\n",
      "  warnings.warn(\n"
     ]
    },
    {
     "name": "stdout",
     "output_type": "stream",
     "text": [
      "  Best Params: {'C': 0.1, 'kernel': 'rbf'}\n"
     ]
    },
    {
     "name": "stderr",
     "output_type": "stream",
     "text": [
      "C:\\Users\\TMS-EEG\\AppData\\Local\\Packages\\PythonSoftwareFoundation.Python.3.11_qbz5n2kfra8p0\\LocalCache\\local-packages\\Python311\\site-packages\\sklearn\\calibration.py:333: UserWarning: The `cv='prefit'` option is deprecated in 1.6 and will be removed in 1.8. You can use CalibratedClassifierCV(FrozenEstimator(estimator)) instead.\n",
      "  warnings.warn(\n"
     ]
    },
    {
     "name": "stdout",
     "output_type": "stream",
     "text": [
      "Fold 15 - Log Loss: 0.4725, Accuracy: 0.6364\n",
      "Processing fold 16/30...\n"
     ]
    },
    {
     "name": "stderr",
     "output_type": "stream",
     "text": [
      "C:\\Users\\TMS-EEG\\AppData\\Local\\Packages\\PythonSoftwareFoundation.Python.3.11_qbz5n2kfra8p0\\LocalCache\\local-packages\\Python311\\site-packages\\sklearn\\model_selection\\_search.py:1108: UserWarning: One or more of the test scores are non-finite: [nan nan nan]\n",
      "  warnings.warn(\n"
     ]
    },
    {
     "name": "stdout",
     "output_type": "stream",
     "text": [
      "  Best Params: {'C': 0.1, 'kernel': 'rbf'}\n"
     ]
    },
    {
     "name": "stderr",
     "output_type": "stream",
     "text": [
      "C:\\Users\\TMS-EEG\\AppData\\Local\\Packages\\PythonSoftwareFoundation.Python.3.11_qbz5n2kfra8p0\\LocalCache\\local-packages\\Python311\\site-packages\\sklearn\\calibration.py:333: UserWarning: The `cv='prefit'` option is deprecated in 1.6 and will be removed in 1.8. You can use CalibratedClassifierCV(FrozenEstimator(estimator)) instead.\n",
      "  warnings.warn(\n"
     ]
    },
    {
     "name": "stdout",
     "output_type": "stream",
     "text": [
      "Fold 16 - Log Loss: 0.2706, Accuracy: 0.9605\n",
      "Processing fold 17/30...\n"
     ]
    },
    {
     "name": "stderr",
     "output_type": "stream",
     "text": [
      "C:\\Users\\TMS-EEG\\AppData\\Local\\Packages\\PythonSoftwareFoundation.Python.3.11_qbz5n2kfra8p0\\LocalCache\\local-packages\\Python311\\site-packages\\sklearn\\model_selection\\_search.py:1108: UserWarning: One or more of the test scores are non-finite: [nan nan nan]\n",
      "  warnings.warn(\n"
     ]
    },
    {
     "name": "stdout",
     "output_type": "stream",
     "text": [
      "  Best Params: {'C': 0.1, 'kernel': 'rbf'}\n"
     ]
    },
    {
     "name": "stderr",
     "output_type": "stream",
     "text": [
      "C:\\Users\\TMS-EEG\\AppData\\Local\\Packages\\PythonSoftwareFoundation.Python.3.11_qbz5n2kfra8p0\\LocalCache\\local-packages\\Python311\\site-packages\\sklearn\\calibration.py:333: UserWarning: The `cv='prefit'` option is deprecated in 1.6 and will be removed in 1.8. You can use CalibratedClassifierCV(FrozenEstimator(estimator)) instead.\n",
      "  warnings.warn(\n"
     ]
    },
    {
     "name": "stdout",
     "output_type": "stream",
     "text": [
      "Fold 17 - Log Loss: 0.4953, Accuracy: 0.7590\n",
      "Processing fold 18/30...\n"
     ]
    },
    {
     "name": "stderr",
     "output_type": "stream",
     "text": [
      "C:\\Users\\TMS-EEG\\AppData\\Local\\Packages\\PythonSoftwareFoundation.Python.3.11_qbz5n2kfra8p0\\LocalCache\\local-packages\\Python311\\site-packages\\sklearn\\model_selection\\_search.py:1108: UserWarning: One or more of the test scores are non-finite: [nan nan nan]\n",
      "  warnings.warn(\n"
     ]
    },
    {
     "name": "stdout",
     "output_type": "stream",
     "text": [
      "  Best Params: {'C': 0.1, 'kernel': 'rbf'}\n"
     ]
    },
    {
     "name": "stderr",
     "output_type": "stream",
     "text": [
      "C:\\Users\\TMS-EEG\\AppData\\Local\\Packages\\PythonSoftwareFoundation.Python.3.11_qbz5n2kfra8p0\\LocalCache\\local-packages\\Python311\\site-packages\\sklearn\\calibration.py:333: UserWarning: The `cv='prefit'` option is deprecated in 1.6 and will be removed in 1.8. You can use CalibratedClassifierCV(FrozenEstimator(estimator)) instead.\n",
      "  warnings.warn(\n"
     ]
    },
    {
     "name": "stdout",
     "output_type": "stream",
     "text": [
      "Fold 18 - Log Loss: 0.9353, Accuracy: 0.5442\n",
      "Processing fold 19/30...\n"
     ]
    },
    {
     "name": "stderr",
     "output_type": "stream",
     "text": [
      "C:\\Users\\TMS-EEG\\AppData\\Local\\Packages\\PythonSoftwareFoundation.Python.3.11_qbz5n2kfra8p0\\LocalCache\\local-packages\\Python311\\site-packages\\sklearn\\model_selection\\_search.py:1108: UserWarning: One or more of the test scores are non-finite: [nan nan nan]\n",
      "  warnings.warn(\n"
     ]
    },
    {
     "name": "stdout",
     "output_type": "stream",
     "text": [
      "  Best Params: {'C': 0.1, 'kernel': 'rbf'}\n"
     ]
    },
    {
     "name": "stderr",
     "output_type": "stream",
     "text": [
      "C:\\Users\\TMS-EEG\\AppData\\Local\\Packages\\PythonSoftwareFoundation.Python.3.11_qbz5n2kfra8p0\\LocalCache\\local-packages\\Python311\\site-packages\\sklearn\\calibration.py:333: UserWarning: The `cv='prefit'` option is deprecated in 1.6 and will be removed in 1.8. You can use CalibratedClassifierCV(FrozenEstimator(estimator)) instead.\n",
      "  warnings.warn(\n"
     ]
    },
    {
     "name": "stdout",
     "output_type": "stream",
     "text": [
      "Fold 19 - Log Loss: 0.3502, Accuracy: 0.8254\n",
      "Processing fold 20/30...\n"
     ]
    },
    {
     "name": "stderr",
     "output_type": "stream",
     "text": [
      "C:\\Users\\TMS-EEG\\AppData\\Local\\Packages\\PythonSoftwareFoundation.Python.3.11_qbz5n2kfra8p0\\LocalCache\\local-packages\\Python311\\site-packages\\sklearn\\model_selection\\_search.py:1108: UserWarning: One or more of the test scores are non-finite: [nan nan nan]\n",
      "  warnings.warn(\n"
     ]
    },
    {
     "name": "stdout",
     "output_type": "stream",
     "text": [
      "  Best Params: {'C': 0.1, 'kernel': 'rbf'}\n"
     ]
    },
    {
     "name": "stderr",
     "output_type": "stream",
     "text": [
      "C:\\Users\\TMS-EEG\\AppData\\Local\\Packages\\PythonSoftwareFoundation.Python.3.11_qbz5n2kfra8p0\\LocalCache\\local-packages\\Python311\\site-packages\\sklearn\\calibration.py:333: UserWarning: The `cv='prefit'` option is deprecated in 1.6 and will be removed in 1.8. You can use CalibratedClassifierCV(FrozenEstimator(estimator)) instead.\n",
      "  warnings.warn(\n"
     ]
    },
    {
     "name": "stdout",
     "output_type": "stream",
     "text": [
      "Fold 20 - Log Loss: 0.0793, Accuracy: 1.0000\n",
      "Processing fold 21/30...\n"
     ]
    },
    {
     "name": "stderr",
     "output_type": "stream",
     "text": [
      "C:\\Users\\TMS-EEG\\AppData\\Local\\Packages\\PythonSoftwareFoundation.Python.3.11_qbz5n2kfra8p0\\LocalCache\\local-packages\\Python311\\site-packages\\sklearn\\model_selection\\_search.py:1108: UserWarning: One or more of the test scores are non-finite: [nan nan nan]\n",
      "  warnings.warn(\n"
     ]
    },
    {
     "name": "stdout",
     "output_type": "stream",
     "text": [
      "  Best Params: {'C': 0.1, 'kernel': 'rbf'}\n"
     ]
    },
    {
     "name": "stderr",
     "output_type": "stream",
     "text": [
      "C:\\Users\\TMS-EEG\\AppData\\Local\\Packages\\PythonSoftwareFoundation.Python.3.11_qbz5n2kfra8p0\\LocalCache\\local-packages\\Python311\\site-packages\\sklearn\\calibration.py:333: UserWarning: The `cv='prefit'` option is deprecated in 1.6 and will be removed in 1.8. You can use CalibratedClassifierCV(FrozenEstimator(estimator)) instead.\n",
      "  warnings.warn(\n"
     ]
    },
    {
     "name": "stdout",
     "output_type": "stream",
     "text": [
      "Fold 21 - Log Loss: 0.0868, Accuracy: 1.0000\n",
      "Processing fold 22/30...\n"
     ]
    },
    {
     "name": "stderr",
     "output_type": "stream",
     "text": [
      "C:\\Users\\TMS-EEG\\AppData\\Local\\Packages\\PythonSoftwareFoundation.Python.3.11_qbz5n2kfra8p0\\LocalCache\\local-packages\\Python311\\site-packages\\sklearn\\model_selection\\_search.py:1108: UserWarning: One or more of the test scores are non-finite: [nan nan nan]\n",
      "  warnings.warn(\n"
     ]
    },
    {
     "name": "stdout",
     "output_type": "stream",
     "text": [
      "  Best Params: {'C': 0.1, 'kernel': 'rbf'}\n"
     ]
    },
    {
     "name": "stderr",
     "output_type": "stream",
     "text": [
      "C:\\Users\\TMS-EEG\\AppData\\Local\\Packages\\PythonSoftwareFoundation.Python.3.11_qbz5n2kfra8p0\\LocalCache\\local-packages\\Python311\\site-packages\\sklearn\\calibration.py:333: UserWarning: The `cv='prefit'` option is deprecated in 1.6 and will be removed in 1.8. You can use CalibratedClassifierCV(FrozenEstimator(estimator)) instead.\n",
      "  warnings.warn(\n"
     ]
    },
    {
     "name": "stdout",
     "output_type": "stream",
     "text": [
      "Fold 22 - Log Loss: 0.4182, Accuracy: 0.7766\n",
      "Processing fold 23/30...\n"
     ]
    },
    {
     "name": "stderr",
     "output_type": "stream",
     "text": [
      "C:\\Users\\TMS-EEG\\AppData\\Local\\Packages\\PythonSoftwareFoundation.Python.3.11_qbz5n2kfra8p0\\LocalCache\\local-packages\\Python311\\site-packages\\sklearn\\model_selection\\_search.py:1108: UserWarning: One or more of the test scores are non-finite: [nan nan nan]\n",
      "  warnings.warn(\n"
     ]
    },
    {
     "name": "stdout",
     "output_type": "stream",
     "text": [
      "  Best Params: {'C': 0.1, 'kernel': 'rbf'}\n"
     ]
    },
    {
     "name": "stderr",
     "output_type": "stream",
     "text": [
      "C:\\Users\\TMS-EEG\\AppData\\Local\\Packages\\PythonSoftwareFoundation.Python.3.11_qbz5n2kfra8p0\\LocalCache\\local-packages\\Python311\\site-packages\\sklearn\\calibration.py:333: UserWarning: The `cv='prefit'` option is deprecated in 1.6 and will be removed in 1.8. You can use CalibratedClassifierCV(FrozenEstimator(estimator)) instead.\n",
      "  warnings.warn(\n"
     ]
    },
    {
     "name": "stdout",
     "output_type": "stream",
     "text": [
      "Fold 23 - Log Loss: 2.2357, Accuracy: 0.4545\n",
      "Processing fold 24/30...\n"
     ]
    },
    {
     "name": "stderr",
     "output_type": "stream",
     "text": [
      "C:\\Users\\TMS-EEG\\AppData\\Local\\Packages\\PythonSoftwareFoundation.Python.3.11_qbz5n2kfra8p0\\LocalCache\\local-packages\\Python311\\site-packages\\sklearn\\model_selection\\_search.py:1108: UserWarning: One or more of the test scores are non-finite: [nan nan nan]\n",
      "  warnings.warn(\n"
     ]
    },
    {
     "name": "stdout",
     "output_type": "stream",
     "text": [
      "  Best Params: {'C': 0.1, 'kernel': 'rbf'}\n"
     ]
    },
    {
     "name": "stderr",
     "output_type": "stream",
     "text": [
      "C:\\Users\\TMS-EEG\\AppData\\Local\\Packages\\PythonSoftwareFoundation.Python.3.11_qbz5n2kfra8p0\\LocalCache\\local-packages\\Python311\\site-packages\\sklearn\\calibration.py:333: UserWarning: The `cv='prefit'` option is deprecated in 1.6 and will be removed in 1.8. You can use CalibratedClassifierCV(FrozenEstimator(estimator)) instead.\n",
      "  warnings.warn(\n"
     ]
    },
    {
     "name": "stdout",
     "output_type": "stream",
     "text": [
      "Fold 24 - Log Loss: 0.5178, Accuracy: 0.7059\n",
      "Processing fold 25/30...\n"
     ]
    },
    {
     "name": "stderr",
     "output_type": "stream",
     "text": [
      "C:\\Users\\TMS-EEG\\AppData\\Local\\Packages\\PythonSoftwareFoundation.Python.3.11_qbz5n2kfra8p0\\LocalCache\\local-packages\\Python311\\site-packages\\sklearn\\model_selection\\_search.py:1108: UserWarning: One or more of the test scores are non-finite: [nan nan nan]\n",
      "  warnings.warn(\n"
     ]
    },
    {
     "name": "stdout",
     "output_type": "stream",
     "text": [
      "  Best Params: {'C': 0.1, 'kernel': 'rbf'}\n"
     ]
    },
    {
     "name": "stderr",
     "output_type": "stream",
     "text": [
      "C:\\Users\\TMS-EEG\\AppData\\Local\\Packages\\PythonSoftwareFoundation.Python.3.11_qbz5n2kfra8p0\\LocalCache\\local-packages\\Python311\\site-packages\\sklearn\\calibration.py:333: UserWarning: The `cv='prefit'` option is deprecated in 1.6 and will be removed in 1.8. You can use CalibratedClassifierCV(FrozenEstimator(estimator)) instead.\n",
      "  warnings.warn(\n"
     ]
    },
    {
     "name": "stdout",
     "output_type": "stream",
     "text": [
      "Fold 25 - Log Loss: 0.0716, Accuracy: 1.0000\n",
      "Processing fold 26/30...\n"
     ]
    },
    {
     "name": "stderr",
     "output_type": "stream",
     "text": [
      "C:\\Users\\TMS-EEG\\AppData\\Local\\Packages\\PythonSoftwareFoundation.Python.3.11_qbz5n2kfra8p0\\LocalCache\\local-packages\\Python311\\site-packages\\sklearn\\model_selection\\_search.py:1108: UserWarning: One or more of the test scores are non-finite: [nan nan nan]\n",
      "  warnings.warn(\n"
     ]
    },
    {
     "name": "stdout",
     "output_type": "stream",
     "text": [
      "  Best Params: {'C': 0.1, 'kernel': 'rbf'}\n"
     ]
    },
    {
     "name": "stderr",
     "output_type": "stream",
     "text": [
      "C:\\Users\\TMS-EEG\\AppData\\Local\\Packages\\PythonSoftwareFoundation.Python.3.11_qbz5n2kfra8p0\\LocalCache\\local-packages\\Python311\\site-packages\\sklearn\\calibration.py:333: UserWarning: The `cv='prefit'` option is deprecated in 1.6 and will be removed in 1.8. You can use CalibratedClassifierCV(FrozenEstimator(estimator)) instead.\n",
      "  warnings.warn(\n"
     ]
    },
    {
     "name": "stdout",
     "output_type": "stream",
     "text": [
      "Fold 26 - Log Loss: 0.3067, Accuracy: 0.9756\n",
      "Processing fold 27/30...\n"
     ]
    },
    {
     "name": "stderr",
     "output_type": "stream",
     "text": [
      "C:\\Users\\TMS-EEG\\AppData\\Local\\Packages\\PythonSoftwareFoundation.Python.3.11_qbz5n2kfra8p0\\LocalCache\\local-packages\\Python311\\site-packages\\sklearn\\model_selection\\_search.py:1108: UserWarning: One or more of the test scores are non-finite: [nan nan nan]\n",
      "  warnings.warn(\n"
     ]
    },
    {
     "name": "stdout",
     "output_type": "stream",
     "text": [
      "  Best Params: {'C': 0.1, 'kernel': 'rbf'}\n"
     ]
    },
    {
     "name": "stderr",
     "output_type": "stream",
     "text": [
      "C:\\Users\\TMS-EEG\\AppData\\Local\\Packages\\PythonSoftwareFoundation.Python.3.11_qbz5n2kfra8p0\\LocalCache\\local-packages\\Python311\\site-packages\\sklearn\\calibration.py:333: UserWarning: The `cv='prefit'` option is deprecated in 1.6 and will be removed in 1.8. You can use CalibratedClassifierCV(FrozenEstimator(estimator)) instead.\n",
      "  warnings.warn(\n"
     ]
    },
    {
     "name": "stdout",
     "output_type": "stream",
     "text": [
      "Fold 27 - Log Loss: 0.0908, Accuracy: 1.0000\n",
      "Processing fold 28/30...\n"
     ]
    },
    {
     "name": "stderr",
     "output_type": "stream",
     "text": [
      "C:\\Users\\TMS-EEG\\AppData\\Local\\Packages\\PythonSoftwareFoundation.Python.3.11_qbz5n2kfra8p0\\LocalCache\\local-packages\\Python311\\site-packages\\sklearn\\model_selection\\_search.py:1108: UserWarning: One or more of the test scores are non-finite: [nan nan nan]\n",
      "  warnings.warn(\n"
     ]
    },
    {
     "name": "stdout",
     "output_type": "stream",
     "text": [
      "  Best Params: {'C': 0.1, 'kernel': 'rbf'}\n"
     ]
    },
    {
     "name": "stderr",
     "output_type": "stream",
     "text": [
      "C:\\Users\\TMS-EEG\\AppData\\Local\\Packages\\PythonSoftwareFoundation.Python.3.11_qbz5n2kfra8p0\\LocalCache\\local-packages\\Python311\\site-packages\\sklearn\\calibration.py:333: UserWarning: The `cv='prefit'` option is deprecated in 1.6 and will be removed in 1.8. You can use CalibratedClassifierCV(FrozenEstimator(estimator)) instead.\n",
      "  warnings.warn(\n"
     ]
    },
    {
     "name": "stdout",
     "output_type": "stream",
     "text": [
      "Fold 28 - Log Loss: 0.4200, Accuracy: 0.8106\n",
      "Processing fold 29/30...\n"
     ]
    },
    {
     "name": "stderr",
     "output_type": "stream",
     "text": [
      "C:\\Users\\TMS-EEG\\AppData\\Local\\Packages\\PythonSoftwareFoundation.Python.3.11_qbz5n2kfra8p0\\LocalCache\\local-packages\\Python311\\site-packages\\sklearn\\model_selection\\_search.py:1108: UserWarning: One or more of the test scores are non-finite: [nan nan nan]\n",
      "  warnings.warn(\n"
     ]
    },
    {
     "name": "stdout",
     "output_type": "stream",
     "text": [
      "  Best Params: {'C': 0.1, 'kernel': 'rbf'}\n"
     ]
    },
    {
     "name": "stderr",
     "output_type": "stream",
     "text": [
      "C:\\Users\\TMS-EEG\\AppData\\Local\\Packages\\PythonSoftwareFoundation.Python.3.11_qbz5n2kfra8p0\\LocalCache\\local-packages\\Python311\\site-packages\\sklearn\\calibration.py:333: UserWarning: The `cv='prefit'` option is deprecated in 1.6 and will be removed in 1.8. You can use CalibratedClassifierCV(FrozenEstimator(estimator)) instead.\n",
      "  warnings.warn(\n"
     ]
    },
    {
     "name": "stdout",
     "output_type": "stream",
     "text": [
      "Fold 29 - Log Loss: 0.3594, Accuracy: 0.8204\n",
      "Processing fold 30/30...\n"
     ]
    },
    {
     "name": "stderr",
     "output_type": "stream",
     "text": [
      "C:\\Users\\TMS-EEG\\AppData\\Local\\Packages\\PythonSoftwareFoundation.Python.3.11_qbz5n2kfra8p0\\LocalCache\\local-packages\\Python311\\site-packages\\sklearn\\model_selection\\_search.py:1108: UserWarning: One or more of the test scores are non-finite: [nan nan nan]\n",
      "  warnings.warn(\n"
     ]
    },
    {
     "name": "stdout",
     "output_type": "stream",
     "text": [
      "  Best Params: {'C': 0.1, 'kernel': 'rbf'}\n"
     ]
    },
    {
     "name": "stderr",
     "output_type": "stream",
     "text": [
      "C:\\Users\\TMS-EEG\\AppData\\Local\\Packages\\PythonSoftwareFoundation.Python.3.11_qbz5n2kfra8p0\\LocalCache\\local-packages\\Python311\\site-packages\\sklearn\\calibration.py:333: UserWarning: The `cv='prefit'` option is deprecated in 1.6 and will be removed in 1.8. You can use CalibratedClassifierCV(FrozenEstimator(estimator)) instead.\n",
      "  warnings.warn(\n"
     ]
    },
    {
     "name": "stdout",
     "output_type": "stream",
     "text": [
      "Fold 30 - Log Loss: 0.3363, Accuracy: 0.8372\n"
     ]
    }
   ],
   "source": [
    "import numpy as np\n",
    "import matplotlib.pyplot as plt\n",
    "import seaborn as sns\n",
    "from sklearn.model_selection import LeaveOneGroupOut\n",
    "from sklearn.svm import SVC\n",
    "from sklearn.calibration import CalibratedClassifierCV\n",
    "from sklearn.preprocessing import StandardScaler\n",
    "from sklearn.metrics import (\n",
    "    accuracy_score, precision_score, recall_score, f1_score,\n",
    "    classification_report, confusion_matrix, log_loss\n",
    ")\n",
    "from sklearn.model_selection import GridSearchCV\n",
    "\n",
    "\n",
    "# Input\n",
    "X = X_combined\n",
    "y = y_combined\n",
    "groups = subject_ids\n",
    "\n",
    "# Setup\n",
    "logo = LeaveOneGroupOut()\n",
    "\n",
    "param_grid = {\n",
    "    'C': [0.1, 1, 10],\n",
    "    'kernel': ['rbf']\n",
    "}\n",
    "\n",
    "log_losses = []\n",
    "accuracies = []\n",
    "\n",
    "all_probs_svm = []\n",
    "all_y_true_folds_svm = []\n",
    "all_y_pred_folds = []\n",
    "\n",
    "# Cross-validation\n",
    "for fold_idx, (train_idx, test_idx) in enumerate(logo.split(X, y, groups), 1):\n",
    "    print(f\"Processing fold {fold_idx}/30...\")\n",
    "\n",
    "    X_train, X_test = X[train_idx], X[test_idx]\n",
    "    y_train, y_test = y[train_idx], y[test_idx]\n",
    "\n",
    "    scaler = StandardScaler()\n",
    "    X_train_scaled = scaler.fit_transform(X_train)\n",
    "    X_test_scaled = scaler.transform(X_test)\n",
    "\n",
    "    # Inner CV for hyperparameter tuning\n",
    "    inner_logo = LeaveOneGroupOut()\n",
    "    group_train = groups[train_idx]\n",
    "    svc = SVC(probability=False)\n",
    "\n",
    "    clf = GridSearchCV(svc, param_grid, cv=inner_logo.split(X_train_scaled, y_train, group_train),\n",
    "                       scoring='neg_log_loss', n_jobs=-1)\n",
    "    clf.fit(X_train_scaled, y_train)\n",
    "\n",
    "    print(f\"  Best Params: {clf.best_params_}\")\n",
    "\n",
    "    # Calibrate best model on training data\n",
    "    calibrated_model = CalibratedClassifierCV(clf.best_estimator_, method='sigmoid', cv='prefit')\n",
    "    calibrated_model.fit(X_train_scaled, y_train)\n",
    "\n",
    "    # Predictions\n",
    "    prob = calibrated_model.predict_proba(X_test_scaled)[:, 1]\n",
    "    y_pred = (prob >= 0.5).astype(int)\n",
    "\n",
    "    # Store for ensembling\n",
    "    all_probs_svm.append(prob)\n",
    "    all_y_true_folds_svm.append(y_test)\n",
    "    all_y_pred_folds.append(y_pred)\n",
    "\n",
    "    # Metrics\n",
    "    acc = accuracy_score(y_test, y_pred)\n",
    "    loss = log_loss(y_test, prob, labels=[0, 1])\n",
    "\n",
    "    accuracies.append(acc)\n",
    "    log_losses.append(loss)\n",
    "\n",
    "    print(f\"Fold {fold_idx} - Log Loss: {loss:.4f}, Accuracy: {acc:.4f}\")\n"
   ]
  },
  {
   "cell_type": "code",
   "execution_count": 44,
   "metadata": {},
   "outputs": [
    {
     "name": "stdout",
     "output_type": "stream",
     "text": [
      "SVC(C=0.1)\n"
     ]
    }
   ],
   "source": [
    "print(clf.best_estimator_)"
   ]
  },
  {
   "cell_type": "code",
   "execution_count": 37,
   "metadata": {},
   "outputs": [
    {
     "name": "stdout",
     "output_type": "stream",
     "text": [
      "✅ The SVM performs significantly differently from the baseline at the 0.05 level.\n",
      "626.6288274831965\n",
      "pvalue = 0.0000000000e+00\n"
     ]
    }
   ],
   "source": [
    "\n",
    "from scipy.stats import chi2\n",
    "\n",
    "# Concatenate all predictions and true labels from the 30 folds\n",
    "y_true_all = np.concatenate(all_y_true_folds_svm)\n",
    "y_pred_all_svm = np.concatenate(all_y_pred_folds)\n",
    "\n",
    "# Create baseline predictions (always predict class 1)\n",
    "majority_class = 1  # Always predicting \"Eyes Closed\"\n",
    "y_pred_baseline = np.full_like(y_true_all, fill_value=majority_class)\n",
    "\n",
    "# Determine correctness of each model per sample\n",
    "svm_correct = y_pred_all_svm == y_true_all\n",
    "baseline_correct = y_pred_baseline == y_true_all\n",
    "\n",
    "# Construct contingency table values:\n",
    "# b: SVM correct, baseline wrong\n",
    "# c: SVM wrong, baseline correct\n",
    "b = np.sum((svm_correct == True) & (baseline_correct == False))\n",
    "c = np.sum((svm_correct == False) & (baseline_correct == True))\n",
    "\n",
    "statistic = (abs(b-c)-1)**2 / (b+c) if b+c > 0 else 0\n",
    "pvalue = 1-chi2.cdf(statistic, df=1)\n",
    "\n",
    "\n",
    "# Interpretation\n",
    "if pvalue < 0.05:\n",
    "    print(\"✅ The SVM performs significantly differently from the baseline at the 0.05 level.\")\n",
    "else:\n",
    "    print(\"❌ No significant difference in performance between SVM and the baseline.\")\n",
    "\n",
    "print(statistic) \n",
    "print(f\"pvalue = {pvalue:.10e}\")\n"
   ]
  },
  {
   "cell_type": "code",
   "execution_count": 24,
   "metadata": {},
   "outputs": [],
   "source": [
    "# Flatten lists to single arrays\n",
    "all_y_true_flat = np.concatenate(all_y_true_folds_svm)\n",
    "all_y_pred_flat = np.concatenate(all_y_pred_folds)\n",
    "all_probs_flat = np.concatenate(all_probs_svm)"
   ]
  },
  {
   "cell_type": "code",
   "execution_count": null,
   "metadata": {},
   "outputs": [],
   "source": [
    "probs_svm = np.concatenate(all_probs_svm)\n",
    "np.save(\"probs_svm.npy\", probs_svm)"
   ]
  },
  {
   "cell_type": "code",
   "execution_count": null,
   "metadata": {},
   "outputs": [],
   "source": [
    "import joblib\n",
    "joblib.dump(calibrated_model, \"model_svm.joblib\")"
   ]
  },
  {
   "cell_type": "code",
   "execution_count": 25,
   "metadata": {},
   "outputs": [
    {
     "name": "stdout",
     "output_type": "stream",
     "text": [
      "\n",
      " Cross-validation complete\n",
      "Mean Accuracy:  0.8123\n",
      "Mean Log Loss:  0.5123\n",
      "\n",
      " Classification Report:\n",
      "              precision    recall  f1-score   support\n",
      "\n",
      "           0       0.84      0.76      0.80      1483\n",
      "           1       0.82      0.88      0.85      1800\n",
      "\n",
      "    accuracy                           0.83      3283\n",
      "   macro avg       0.83      0.82      0.82      3283\n",
      "weighted avg       0.83      0.83      0.83      3283\n",
      "\n"
     ]
    }
   ],
   "source": [
    "# Final Metrics\n",
    "print(\"\\n Cross-validation complete\")\n",
    "print(f\"Mean Accuracy:  {np.mean(accuracies):.4f}\")\n",
    "print(f\"Mean Log Loss:  {np.mean(log_losses):.4f}\")\n",
    "\n",
    "print(\"\\n Classification Report:\")\n",
    "print(classification_report(all_y_true_flat, all_y_pred_flat, zero_division=0))"
   ]
  },
  {
   "cell_type": "markdown",
   "metadata": {},
   "source": [
    "## Confusion Matrix SVM "
   ]
  },
  {
   "cell_type": "code",
   "execution_count": 26,
   "metadata": {},
   "outputs": [
    {
     "data": {
      "image/png": "[encoded data removed]",
      "text/plain": [
       "<Figure size 600x500 with 2 Axes>"
      ]
     },
     "metadata": {},
     "output_type": "display_data"
    }
   ],
   "source": [
    "# Confusion Matrix Plot\n",
    "cm = confusion_matrix(all_y_true_flat, all_y_pred_flat)\n",
    "plt.figure(figsize=(6, 5))\n",
    "sns.heatmap(cm, annot=True, fmt='d', cmap='Blues',\n",
    "            xticklabels=[\"Predicted: 0\", \"Predicted: 1\"],\n",
    "            yticklabels=[\"True: 0\", \"True: 1\"])\n",
    "plt.title(\"Confusion Matrix - SVM\")\n",
    "plt.xlabel(\"Predicted Label\")\n",
    "plt.ylabel(\"True Label\")\n",
    "plt.tight_layout()\n",
    "plt.show()"
   ]
  },
  {
   "cell_type": "markdown",
   "metadata": {},
   "source": [
    "## Fold per accuracy SVM "
   ]
  },
  {
   "cell_type": "code",
   "execution_count": 23,
   "metadata": {},
   "outputs": [
    {
     "data": {
      "image/png": "[encoded data removed]",
      "text/plain": [
       "<Figure size 1000x500 with 1 Axes>"
      ]
     },
     "metadata": {},
     "output_type": "display_data"
    }
   ],
   "source": [
    "import matplotlib.pyplot as plt\n",
    "import numpy as np\n",
    "\n",
    "unique_subjects_ordered = np.unique(groups)\n",
    "\n",
    "assert len(accuracies) == len(unique_subjects_ordered)\n",
    "\n",
    "sorted_indices = np.argsort(unique_subjects_ordered)\n",
    "sorted_subjects = unique_subjects_ordered[sorted_indices].astype(str)\n",
    "sorted_accuracies = np.array(accuracies)[sorted_indices]\n",
    "\n",
    "\n",
    "# Plot accuracies for each fold\n",
    "plt.figure(figsize=(10, 5))\n",
    "plt.bar(sorted_subjects, sorted_accuracies, color='#2d4987')\n",
    "plt.title(\"Accuracy per Subject - SVM\")\n",
    "plt.xlabel(\"Subject ID\")\n",
    "plt.ylabel(\"Accuracy\")\n",
    "plt.ylim(0, 1)\n",
    "plt.xticks(rotation=45)\n",
    "plt.grid(axis='y', linestyle='--', alpha = 0.7)\n",
    "plt.tight_layout()\n",
    "plt.show()\n"
   ]
  },
  {
   "cell_type": "markdown",
   "metadata": {},
   "source": [
    "## ROC curve SVM"
   ]
  },
  {
   "cell_type": "code",
   "execution_count": 18,
   "metadata": {},
   "outputs": [
    {
     "data": {
      "image/png": "[encoded data removed]",
      "text/plain": [
       "<Figure size 600x500 with 1 Axes>"
      ]
     },
     "metadata": {},
     "output_type": "display_data"
    }
   ],
   "source": [
    "from sklearn.metrics import roc_curve, auc\n",
    "import matplotlib.pyplot as plt \n",
    "\n",
    "all_probs_flat = np.concatenate(all_probs_svm)\n",
    "\n",
    "# AUC and ROC Curve\n",
    "fpr, tpr, thresholds = roc_curve(all_y_true_flat, all_probs_flat)\n",
    "roc_auc = auc(fpr, tpr)\n",
    "\n",
    "plt.figure(figsize=(6, 5))\n",
    "plt.plot(fpr, tpr, label=f\"SVM ROC (AUC = {roc_auc:.2f})\", color=\"#2d4987\")\n",
    "plt.plot([0, 1], [0, 1], \"k--\")\n",
    "plt.xlabel(\"False Positive Rate\")\n",
    "plt.ylabel(\"True Positive Rate\")\n",
    "plt.title(\"ROC Curve - SVM\")\n",
    "plt.legend(loc=\"lower right\")\n",
    "plt.grid(True)\n",
    "plt.tight_layout()\n",
    "plt.show()"
   ]
  },
  {
   "cell_type": "markdown",
   "metadata": {},
   "source": [
    "# Random Forest"
   ]
  },
  {
   "cell_type": "code",
   "execution_count": 12,
   "metadata": {},
   "outputs": [
    {
     "name": "stdout",
     "output_type": "stream",
     "text": [
      "✅ Running Random Forest with Leave-One-Subject-Out Cross-Validation...\n",
      "\n",
      "Fold 1/30 - Subject: 10002\n",
      "  Best parameters: {'max_depth': 10, 'n_estimators': 200}\n",
      "\n",
      "Fold 2/30 - Subject: 10135\n"
     ]
    },
    {
     "name": "stderr",
     "output_type": "stream",
     "text": [
      "C:\\Users\\TMS-EEG\\AppData\\Local\\Packages\\PythonSoftwareFoundation.Python.3.11_qbz5n2kfra8p0\\LocalCache\\local-packages\\Python311\\site-packages\\sklearn\\model_selection\\_search.py:1108: UserWarning: One or more of the test scores are non-finite: [nan nan nan nan nan nan]\n",
      "  warnings.warn(\n"
     ]
    },
    {
     "name": "stdout",
     "output_type": "stream",
     "text": [
      "  Best parameters: {'max_depth': None, 'n_estimators': 100}\n",
      "\n",
      "Fold 3/30 - Subject: 10136\n"
     ]
    },
    {
     "name": "stderr",
     "output_type": "stream",
     "text": [
      "C:\\Users\\TMS-EEG\\AppData\\Local\\Packages\\PythonSoftwareFoundation.Python.3.11_qbz5n2kfra8p0\\LocalCache\\local-packages\\Python311\\site-packages\\sklearn\\model_selection\\_search.py:1108: UserWarning: One or more of the test scores are non-finite: [nan nan nan nan nan nan]\n",
      "  warnings.warn(\n"
     ]
    },
    {
     "name": "stdout",
     "output_type": "stream",
     "text": [
      "  Best parameters: {'max_depth': None, 'n_estimators': 100}\n",
      "\n",
      "Fold 4/30 - Subject: 10138\n"
     ]
    },
    {
     "name": "stderr",
     "output_type": "stream",
     "text": [
      "C:\\Users\\TMS-EEG\\AppData\\Local\\Packages\\PythonSoftwareFoundation.Python.3.11_qbz5n2kfra8p0\\LocalCache\\local-packages\\Python311\\site-packages\\sklearn\\model_selection\\_search.py:1108: UserWarning: One or more of the test scores are non-finite: [nan nan nan nan nan nan]\n",
      "  warnings.warn(\n"
     ]
    },
    {
     "name": "stdout",
     "output_type": "stream",
     "text": [
      "  Best parameters: {'max_depth': None, 'n_estimators': 100}\n",
      "\n",
      "Fold 5/30 - Subject: 10139\n"
     ]
    },
    {
     "name": "stderr",
     "output_type": "stream",
     "text": [
      "C:\\Users\\TMS-EEG\\AppData\\Local\\Packages\\PythonSoftwareFoundation.Python.3.11_qbz5n2kfra8p0\\LocalCache\\local-packages\\Python311\\site-packages\\sklearn\\model_selection\\_search.py:1108: UserWarning: One or more of the test scores are non-finite: [nan nan nan nan nan nan]\n",
      "  warnings.warn(\n"
     ]
    },
    {
     "name": "stdout",
     "output_type": "stream",
     "text": [
      "  Best parameters: {'max_depth': None, 'n_estimators': 100}\n",
      "\n",
      "Fold 6/30 - Subject: 10140\n"
     ]
    },
    {
     "name": "stderr",
     "output_type": "stream",
     "text": [
      "C:\\Users\\TMS-EEG\\AppData\\Local\\Packages\\PythonSoftwareFoundation.Python.3.11_qbz5n2kfra8p0\\LocalCache\\local-packages\\Python311\\site-packages\\sklearn\\model_selection\\_search.py:1108: UserWarning: One or more of the test scores are non-finite: [nan nan nan nan nan nan]\n",
      "  warnings.warn(\n"
     ]
    },
    {
     "name": "stdout",
     "output_type": "stream",
     "text": [
      "  Best parameters: {'max_depth': None, 'n_estimators': 100}\n",
      "\n",
      "Fold 7/30 - Subject: 10142\n"
     ]
    },
    {
     "name": "stderr",
     "output_type": "stream",
     "text": [
      "C:\\Users\\TMS-EEG\\AppData\\Local\\Packages\\PythonSoftwareFoundation.Python.3.11_qbz5n2kfra8p0\\LocalCache\\local-packages\\Python311\\site-packages\\sklearn\\model_selection\\_search.py:1108: UserWarning: One or more of the test scores are non-finite: [nan nan nan nan nan nan]\n",
      "  warnings.warn(\n"
     ]
    },
    {
     "name": "stdout",
     "output_type": "stream",
     "text": [
      "  Best parameters: {'max_depth': None, 'n_estimators': 100}\n",
      "\n",
      "Fold 8/30 - Subject: 10148\n"
     ]
    },
    {
     "name": "stderr",
     "output_type": "stream",
     "text": [
      "C:\\Users\\TMS-EEG\\AppData\\Local\\Packages\\PythonSoftwareFoundation.Python.3.11_qbz5n2kfra8p0\\LocalCache\\local-packages\\Python311\\site-packages\\sklearn\\model_selection\\_search.py:1108: UserWarning: One or more of the test scores are non-finite: [nan nan nan nan nan nan]\n",
      "  warnings.warn(\n"
     ]
    },
    {
     "name": "stdout",
     "output_type": "stream",
     "text": [
      "  Best parameters: {'max_depth': None, 'n_estimators': 100}\n",
      "\n",
      "Fold 9/30 - Subject: 10155\n"
     ]
    },
    {
     "name": "stderr",
     "output_type": "stream",
     "text": [
      "C:\\Users\\TMS-EEG\\AppData\\Local\\Packages\\PythonSoftwareFoundation.Python.3.11_qbz5n2kfra8p0\\LocalCache\\local-packages\\Python311\\site-packages\\sklearn\\model_selection\\_search.py:1108: UserWarning: One or more of the test scores are non-finite: [nan nan nan nan nan nan]\n",
      "  warnings.warn(\n"
     ]
    },
    {
     "name": "stdout",
     "output_type": "stream",
     "text": [
      "  Best parameters: {'max_depth': None, 'n_estimators': 100}\n",
      "\n",
      "Fold 10/30 - Subject: 10158\n"
     ]
    },
    {
     "name": "stderr",
     "output_type": "stream",
     "text": [
      "C:\\Users\\TMS-EEG\\AppData\\Local\\Packages\\PythonSoftwareFoundation.Python.3.11_qbz5n2kfra8p0\\LocalCache\\local-packages\\Python311\\site-packages\\sklearn\\model_selection\\_search.py:1108: UserWarning: One or more of the test scores are non-finite: [nan nan nan nan nan nan]\n",
      "  warnings.warn(\n"
     ]
    },
    {
     "name": "stdout",
     "output_type": "stream",
     "text": [
      "  Best parameters: {'max_depth': None, 'n_estimators': 100}\n",
      "\n",
      "Fold 11/30 - Subject: 10160\n"
     ]
    },
    {
     "name": "stderr",
     "output_type": "stream",
     "text": [
      "C:\\Users\\TMS-EEG\\AppData\\Local\\Packages\\PythonSoftwareFoundation.Python.3.11_qbz5n2kfra8p0\\LocalCache\\local-packages\\Python311\\site-packages\\sklearn\\model_selection\\_search.py:1108: UserWarning: One or more of the test scores are non-finite: [nan nan nan nan nan nan]\n",
      "  warnings.warn(\n"
     ]
    },
    {
     "name": "stdout",
     "output_type": "stream",
     "text": [
      "  Best parameters: {'max_depth': None, 'n_estimators': 100}\n",
      "\n",
      "Fold 12/30 - Subject: 10161\n"
     ]
    },
    {
     "name": "stderr",
     "output_type": "stream",
     "text": [
      "C:\\Users\\TMS-EEG\\AppData\\Local\\Packages\\PythonSoftwareFoundation.Python.3.11_qbz5n2kfra8p0\\LocalCache\\local-packages\\Python311\\site-packages\\sklearn\\model_selection\\_search.py:1108: UserWarning: One or more of the test scores are non-finite: [nan nan nan nan nan nan]\n",
      "  warnings.warn(\n"
     ]
    },
    {
     "name": "stdout",
     "output_type": "stream",
     "text": [
      "  Best parameters: {'max_depth': None, 'n_estimators': 100}\n",
      "\n",
      "Fold 13/30 - Subject: 10165\n"
     ]
    },
    {
     "name": "stderr",
     "output_type": "stream",
     "text": [
      "C:\\Users\\TMS-EEG\\AppData\\Local\\Packages\\PythonSoftwareFoundation.Python.3.11_qbz5n2kfra8p0\\LocalCache\\local-packages\\Python311\\site-packages\\sklearn\\model_selection\\_search.py:1108: UserWarning: One or more of the test scores are non-finite: [nan nan nan nan nan nan]\n",
      "  warnings.warn(\n"
     ]
    },
    {
     "name": "stdout",
     "output_type": "stream",
     "text": [
      "  Best parameters: {'max_depth': None, 'n_estimators': 100}\n",
      "\n",
      "Fold 14/30 - Subject: 10166\n"
     ]
    },
    {
     "name": "stderr",
     "output_type": "stream",
     "text": [
      "C:\\Users\\TMS-EEG\\AppData\\Local\\Packages\\PythonSoftwareFoundation.Python.3.11_qbz5n2kfra8p0\\LocalCache\\local-packages\\Python311\\site-packages\\sklearn\\model_selection\\_search.py:1108: UserWarning: One or more of the test scores are non-finite: [nan nan nan nan nan nan]\n",
      "  warnings.warn(\n"
     ]
    },
    {
     "name": "stdout",
     "output_type": "stream",
     "text": [
      "  Best parameters: {'max_depth': None, 'n_estimators': 100}\n",
      "\n",
      "Fold 15/30 - Subject: 10169\n"
     ]
    },
    {
     "name": "stderr",
     "output_type": "stream",
     "text": [
      "C:\\Users\\TMS-EEG\\AppData\\Local\\Packages\\PythonSoftwareFoundation.Python.3.11_qbz5n2kfra8p0\\LocalCache\\local-packages\\Python311\\site-packages\\sklearn\\model_selection\\_search.py:1108: UserWarning: One or more of the test scores are non-finite: [nan nan nan nan nan nan]\n",
      "  warnings.warn(\n"
     ]
    },
    {
     "name": "stdout",
     "output_type": "stream",
     "text": [
      "  Best parameters: {'max_depth': None, 'n_estimators': 100}\n",
      "\n",
      "Fold 16/30 - Subject: 10171\n"
     ]
    },
    {
     "name": "stderr",
     "output_type": "stream",
     "text": [
      "C:\\Users\\TMS-EEG\\AppData\\Local\\Packages\\PythonSoftwareFoundation.Python.3.11_qbz5n2kfra8p0\\LocalCache\\local-packages\\Python311\\site-packages\\sklearn\\model_selection\\_search.py:1108: UserWarning: One or more of the test scores are non-finite: [nan nan nan nan nan nan]\n",
      "  warnings.warn(\n"
     ]
    },
    {
     "name": "stdout",
     "output_type": "stream",
     "text": [
      "  Best parameters: {'max_depth': None, 'n_estimators': 100}\n",
      "\n",
      "Fold 17/30 - Subject: 10174\n"
     ]
    },
    {
     "name": "stderr",
     "output_type": "stream",
     "text": [
      "C:\\Users\\TMS-EEG\\AppData\\Local\\Packages\\PythonSoftwareFoundation.Python.3.11_qbz5n2kfra8p0\\LocalCache\\local-packages\\Python311\\site-packages\\sklearn\\model_selection\\_search.py:1108: UserWarning: One or more of the test scores are non-finite: [nan nan nan nan nan nan]\n",
      "  warnings.warn(\n"
     ]
    },
    {
     "name": "stdout",
     "output_type": "stream",
     "text": [
      "  Best parameters: {'max_depth': None, 'n_estimators': 100}\n",
      "\n",
      "Fold 18/30 - Subject: 10175\n"
     ]
    },
    {
     "name": "stderr",
     "output_type": "stream",
     "text": [
      "C:\\Users\\TMS-EEG\\AppData\\Local\\Packages\\PythonSoftwareFoundation.Python.3.11_qbz5n2kfra8p0\\LocalCache\\local-packages\\Python311\\site-packages\\sklearn\\model_selection\\_search.py:1108: UserWarning: One or more of the test scores are non-finite: [nan nan nan nan nan nan]\n",
      "  warnings.warn(\n"
     ]
    },
    {
     "name": "stdout",
     "output_type": "stream",
     "text": [
      "  Best parameters: {'max_depth': None, 'n_estimators': 100}\n",
      "\n",
      "Fold 19/30 - Subject: 10188\n"
     ]
    },
    {
     "name": "stderr",
     "output_type": "stream",
     "text": [
      "C:\\Users\\TMS-EEG\\AppData\\Local\\Packages\\PythonSoftwareFoundation.Python.3.11_qbz5n2kfra8p0\\LocalCache\\local-packages\\Python311\\site-packages\\sklearn\\model_selection\\_search.py:1108: UserWarning: One or more of the test scores are non-finite: [nan nan nan nan nan nan]\n",
      "  warnings.warn(\n"
     ]
    },
    {
     "name": "stdout",
     "output_type": "stream",
     "text": [
      "  Best parameters: {'max_depth': None, 'n_estimators': 100}\n",
      "\n",
      "Fold 20/30 - Subject: 10189\n"
     ]
    },
    {
     "name": "stderr",
     "output_type": "stream",
     "text": [
      "C:\\Users\\TMS-EEG\\AppData\\Local\\Packages\\PythonSoftwareFoundation.Python.3.11_qbz5n2kfra8p0\\LocalCache\\local-packages\\Python311\\site-packages\\sklearn\\model_selection\\_search.py:1108: UserWarning: One or more of the test scores are non-finite: [nan nan nan nan nan nan]\n",
      "  warnings.warn(\n"
     ]
    },
    {
     "name": "stdout",
     "output_type": "stream",
     "text": [
      "  Best parameters: {'max_depth': None, 'n_estimators': 100}\n",
      "\n",
      "Fold 21/30 - Subject: 10190\n"
     ]
    },
    {
     "name": "stderr",
     "output_type": "stream",
     "text": [
      "C:\\Users\\TMS-EEG\\AppData\\Local\\Packages\\PythonSoftwareFoundation.Python.3.11_qbz5n2kfra8p0\\LocalCache\\local-packages\\Python311\\site-packages\\sklearn\\model_selection\\_search.py:1108: UserWarning: One or more of the test scores are non-finite: [nan nan nan nan nan nan]\n",
      "  warnings.warn(\n"
     ]
    },
    {
     "name": "stdout",
     "output_type": "stream",
     "text": [
      "  Best parameters: {'max_depth': None, 'n_estimators': 100}\n",
      "\n",
      "Fold 22/30 - Subject: 10192\n"
     ]
    },
    {
     "name": "stderr",
     "output_type": "stream",
     "text": [
      "C:\\Users\\TMS-EEG\\AppData\\Local\\Packages\\PythonSoftwareFoundation.Python.3.11_qbz5n2kfra8p0\\LocalCache\\local-packages\\Python311\\site-packages\\sklearn\\model_selection\\_search.py:1108: UserWarning: One or more of the test scores are non-finite: [nan nan nan nan nan nan]\n",
      "  warnings.warn(\n"
     ]
    },
    {
     "name": "stdout",
     "output_type": "stream",
     "text": [
      "  Best parameters: {'max_depth': None, 'n_estimators': 100}\n",
      "\n",
      "Fold 23/30 - Subject: 10193\n"
     ]
    },
    {
     "name": "stderr",
     "output_type": "stream",
     "text": [
      "C:\\Users\\TMS-EEG\\AppData\\Local\\Packages\\PythonSoftwareFoundation.Python.3.11_qbz5n2kfra8p0\\LocalCache\\local-packages\\Python311\\site-packages\\sklearn\\model_selection\\_search.py:1108: UserWarning: One or more of the test scores are non-finite: [nan nan nan nan nan nan]\n",
      "  warnings.warn(\n"
     ]
    },
    {
     "name": "stdout",
     "output_type": "stream",
     "text": [
      "  Best parameters: {'max_depth': None, 'n_estimators': 100}\n",
      "\n",
      "Fold 24/30 - Subject: 10194\n"
     ]
    },
    {
     "name": "stderr",
     "output_type": "stream",
     "text": [
      "C:\\Users\\TMS-EEG\\AppData\\Local\\Packages\\PythonSoftwareFoundation.Python.3.11_qbz5n2kfra8p0\\LocalCache\\local-packages\\Python311\\site-packages\\sklearn\\model_selection\\_search.py:1108: UserWarning: One or more of the test scores are non-finite: [nan nan nan nan nan nan]\n",
      "  warnings.warn(\n"
     ]
    },
    {
     "name": "stdout",
     "output_type": "stream",
     "text": [
      "  Best parameters: {'max_depth': None, 'n_estimators': 100}\n",
      "\n",
      "Fold 25/30 - Subject: 10195\n"
     ]
    },
    {
     "name": "stderr",
     "output_type": "stream",
     "text": [
      "C:\\Users\\TMS-EEG\\AppData\\Local\\Packages\\PythonSoftwareFoundation.Python.3.11_qbz5n2kfra8p0\\LocalCache\\local-packages\\Python311\\site-packages\\sklearn\\model_selection\\_search.py:1108: UserWarning: One or more of the test scores are non-finite: [nan nan nan nan nan nan]\n",
      "  warnings.warn(\n"
     ]
    },
    {
     "name": "stdout",
     "output_type": "stream",
     "text": [
      "  Best parameters: {'max_depth': None, 'n_estimators': 100}\n",
      "\n",
      "Fold 26/30 - Subject: 10203\n"
     ]
    },
    {
     "name": "stderr",
     "output_type": "stream",
     "text": [
      "C:\\Users\\TMS-EEG\\AppData\\Local\\Packages\\PythonSoftwareFoundation.Python.3.11_qbz5n2kfra8p0\\LocalCache\\local-packages\\Python311\\site-packages\\sklearn\\model_selection\\_search.py:1108: UserWarning: One or more of the test scores are non-finite: [nan nan nan nan nan nan]\n",
      "  warnings.warn(\n"
     ]
    },
    {
     "name": "stdout",
     "output_type": "stream",
     "text": [
      "  Best parameters: {'max_depth': None, 'n_estimators': 100}\n",
      "\n",
      "Fold 27/30 - Subject: 10204\n"
     ]
    },
    {
     "name": "stderr",
     "output_type": "stream",
     "text": [
      "C:\\Users\\TMS-EEG\\AppData\\Local\\Packages\\PythonSoftwareFoundation.Python.3.11_qbz5n2kfra8p0\\LocalCache\\local-packages\\Python311\\site-packages\\sklearn\\model_selection\\_search.py:1108: UserWarning: One or more of the test scores are non-finite: [nan nan nan nan nan nan]\n",
      "  warnings.warn(\n"
     ]
    },
    {
     "name": "stdout",
     "output_type": "stream",
     "text": [
      "  Best parameters: {'max_depth': None, 'n_estimators': 100}\n",
      "\n",
      "Fold 28/30 - Subject: 10207\n"
     ]
    },
    {
     "name": "stderr",
     "output_type": "stream",
     "text": [
      "C:\\Users\\TMS-EEG\\AppData\\Local\\Packages\\PythonSoftwareFoundation.Python.3.11_qbz5n2kfra8p0\\LocalCache\\local-packages\\Python311\\site-packages\\sklearn\\model_selection\\_search.py:1108: UserWarning: One or more of the test scores are non-finite: [nan nan nan nan nan nan]\n",
      "  warnings.warn(\n"
     ]
    },
    {
     "name": "stdout",
     "output_type": "stream",
     "text": [
      "  Best parameters: {'max_depth': None, 'n_estimators': 100}\n",
      "\n",
      "Fold 29/30 - Subject: 10209\n"
     ]
    },
    {
     "name": "stderr",
     "output_type": "stream",
     "text": [
      "C:\\Users\\TMS-EEG\\AppData\\Local\\Packages\\PythonSoftwareFoundation.Python.3.11_qbz5n2kfra8p0\\LocalCache\\local-packages\\Python311\\site-packages\\sklearn\\model_selection\\_search.py:1108: UserWarning: One or more of the test scores are non-finite: [nan nan nan nan nan nan]\n",
      "  warnings.warn(\n"
     ]
    },
    {
     "name": "stdout",
     "output_type": "stream",
     "text": [
      "  Best parameters: {'max_depth': None, 'n_estimators': 100}\n",
      "\n",
      "Fold 30/30 - Subject: 10213\n"
     ]
    },
    {
     "name": "stderr",
     "output_type": "stream",
     "text": [
      "C:\\Users\\TMS-EEG\\AppData\\Local\\Packages\\PythonSoftwareFoundation.Python.3.11_qbz5n2kfra8p0\\LocalCache\\local-packages\\Python311\\site-packages\\sklearn\\model_selection\\_search.py:1108: UserWarning: One or more of the test scores are non-finite: [nan nan nan nan nan nan]\n",
      "  warnings.warn(\n"
     ]
    },
    {
     "name": "stdout",
     "output_type": "stream",
     "text": [
      "  Best parameters: {'max_depth': None, 'n_estimators': 100}\n",
      "\n",
      "📊 Fold-by-fold Accuracy:\n",
      "Fold 01: Accuracy = 0.1628\n",
      "Fold 02: Accuracy = 0.5678\n",
      "Fold 03: Accuracy = 0.9620\n",
      "Fold 04: Accuracy = 0.8812\n",
      "Fold 05: Accuracy = 0.9342\n",
      "Fold 06: Accuracy = 1.0000\n",
      "Fold 07: Accuracy = 0.9904\n",
      "Fold 08: Accuracy = 0.8630\n",
      "Fold 09: Accuracy = 0.9314\n",
      "Fold 10: Accuracy = 0.4416\n",
      "Fold 11: Accuracy = 0.8519\n",
      "Fold 12: Accuracy = 0.7912\n",
      "Fold 13: Accuracy = 0.8537\n",
      "Fold 14: Accuracy = 0.6117\n",
      "Fold 15: Accuracy = 0.8818\n",
      "Fold 16: Accuracy = 0.9868\n",
      "Fold 17: Accuracy = 0.7711\n",
      "Fold 18: Accuracy = 0.7279\n",
      "Fold 19: Accuracy = 0.9286\n",
      "Fold 20: Accuracy = 0.9551\n",
      "Fold 21: Accuracy = 1.0000\n",
      "Fold 22: Accuracy = 0.8723\n",
      "Fold 23: Accuracy = 0.4545\n",
      "Fold 24: Accuracy = 0.8941\n",
      "Fold 25: Accuracy = 0.9926\n",
      "Fold 26: Accuracy = 0.9675\n",
      "Fold 27: Accuracy = 0.9853\n",
      "Fold 28: Accuracy = 0.6742\n",
      "Fold 29: Accuracy = 0.9880\n",
      "Fold 30: Accuracy = 0.8953\n",
      "\n",
      "✅ Mean Accuracy across folds: 0.8273\n",
      "Confusion Matrix:\n",
      " [[1275  208]\n",
      " [ 345 1455]]\n",
      "Overall accuracy: 0.8315565031982942\n"
     ]
    },
    {
     "data": {
      "image/png": "[encoded data removed]",
      "text/plain": [
       "<Figure size 600x500 with 1 Axes>"
      ]
     },
     "metadata": {},
     "output_type": "display_data"
    }
   ],
   "source": [
    "import numpy as np\n",
    "import matplotlib.pyplot as plt\n",
    "from sklearn.ensemble import RandomForestClassifier\n",
    "from sklearn.metrics import (\n",
    "    accuracy_score, classification_report, confusion_matrix,\n",
    "    roc_curve, auc, f1_score, recall_score, precision_score\n",
    ")\n",
    "from sklearn.preprocessing import StandardScaler\n",
    "\n",
    "# Preprocessed data\n",
    "X = X_combined\n",
    "y = y_combined\n",
    "groups = subject_ids\n",
    "unique_subjects = np.unique(groups)\n",
    "\n",
    "# Parameters to search\n",
    "param_grid = {\n",
    "    'n_estimators': [100, 200],\n",
    "    'max_depth': [None, 10, 20],\n",
    "}\n",
    "\n",
    "# Storage\n",
    "per_fold_accuracy = []\n",
    "all_probs_rf = []\n",
    "all_y_true_folds_rf = []\n",
    "all_y_pred_folds_rf = []\n",
    "\n",
    "print(\"✅ Running Random Forest with Leave-One-Subject-Out Cross-Validation...\")\n",
    "\n",
    "for fold_idx, (train_idx, test_idx) in enumerate(logo.split(X, y, groups), 1):\n",
    "    print(f\"\\nFold {fold_idx}/{len(np.unique(groups))} - Subject: {groups[test_idx][0]}\")\n",
    "\n",
    "    X_train, X_test = X[train_idx], X[test_idx]\n",
    "    y_train, y_test = y[train_idx], y[test_idx]\n",
    "\n",
    "    # Scale\n",
    "    scaler = StandardScaler()\n",
    "    X_train_scaled = scaler.fit_transform(X_train)\n",
    "    X_test_scaled = scaler.transform(X_test)\n",
    "\n",
    "    # Inner CV groups\n",
    "    inner_groups = groups[train_idx]\n",
    "    rf = RandomForestClassifier(random_state=42, n_jobs=-1)\n",
    "\n",
    "    grid_search = GridSearchCV(\n",
    "        estimator=rf,\n",
    "        param_grid=param_grid,\n",
    "        cv=LeaveOneGroupOut().split(X_train_scaled, y_train, inner_groups),\n",
    "        scoring='neg_log_loss',\n",
    "        n_jobs=-1\n",
    "    )\n",
    "    grid_search.fit(X_train_scaled, y_train)\n",
    "\n",
    "    print(\"  Best parameters:\", grid_search.best_params_)\n",
    "\n",
    "    # Predict with best model\n",
    "    best_rf = grid_search.best_estimator_\n",
    "    y_pred = best_rf.predict(X_test_scaled)\n",
    "    y_prob = best_rf.predict_proba(X_test_scaled)[:, 1]\n",
    "\n",
    "    # Store\n",
    "    all_y_true_folds_rf.append(y_test)\n",
    "    all_y_pred_folds_rf.append(y_pred)\n",
    "    all_probs_rf.append(y_prob)\n",
    "\n",
    "    acc = accuracy_score(y_test, y_pred)\n",
    "    per_fold_accuracy.append(acc)\n",
    "    \n",
    "    \n",
    "y_true_all = np.concatenate(all_y_true_folds_rf)\n",
    "y_pred_all = np.concatenate(all_y_pred_folds_rf)\n",
    "y_prob_all = np.concatenate(all_probs_rf)\n",
    "\n",
    "\n",
    "# --- Final Evaluation ---\n",
    "print(\"\\n📊 Fold-by-fold Accuracy:\")\n",
    "for i, acc in enumerate(per_fold_accuracy):\n",
    "    print(f\"Fold {i+1:02}: Accuracy = {acc:.4f}\")\n",
    "\n",
    "print(f\"\\n✅ Mean Accuracy across folds: {np.mean(per_fold_accuracy):.4f}\")\n",
    "random_forest_classification_report = classification_report(y_true_all, y_pred_all, target_names=[\"Eyes Open\", \"Eyes Closed\"])\n",
    "\n",
    "cm = confusion_matrix(y_true_all, y_pred_all)\n",
    "print(\"Confusion Matrix:\\n\", cm)\n",
    "\n",
    "overall_acc = accuracy_score(y_true_all, y_pred_all)\n",
    "print(f\"Overall accuracy: {overall_acc}\")\n",
    "\n",
    "# AUC and ROC Curve\n",
    "fpr, tpr, thresholds = roc_curve(y_true_all, y_prob_all)\n",
    "roc_auc = auc(fpr, tpr)\n",
    "\n",
    "plt.figure(figsize=(6, 5))\n",
    "plt.plot(fpr, tpr, label=f\"AUC = {roc_auc:.2f}\", color=\"#2d4987\")\n",
    "plt.plot([0, 1], [0, 1], \"k--\")\n",
    "plt.xlabel(\"False Positive Rate\")\n",
    "plt.ylabel(\"True Positive Rate\")\n",
    "plt.title(\"ROC Curve - Random Forest\")\n",
    "plt.legend(loc=\"lower right\")\n",
    "plt.grid(True)\n",
    "plt.tight_layout()\n",
    "plt.show()\n"
   ]
  },
  {
   "cell_type": "code",
   "execution_count": 46,
   "metadata": {},
   "outputs": [
    {
     "name": "stdout",
     "output_type": "stream",
     "text": [
      "  Best parameters: {'max_depth': None, 'n_estimators': 100}\n"
     ]
    }
   ],
   "source": [
    "print(\"  Best parameters:\", grid_search.best_params_)\n"
   ]
  },
  {
   "cell_type": "code",
   "execution_count": 39,
   "metadata": {},
   "outputs": [
    {
     "name": "stdout",
     "output_type": "stream",
     "text": [
      "McNemar's test statistic = 532.7414, p-value = 0.0000\n",
      "✅ The Random Forest model performs significantly differently from the baseline at the 0.05 level.\n"
     ]
    }
   ],
   "source": [
    "from scipy.stats import chi2 \n",
    "import numpy as np\n",
    "\n",
    "# Concatenate all predictions and true labels\n",
    "y_pred_all_rf = np.concatenate(all_y_pred_folds_rf)\n",
    "y_true_all_rf = np.concatenate(all_y_true_folds_rf)\n",
    "\n",
    "# Create baseline predictions (always predict class 1)\n",
    "baseline_preds = np.full_like(y_true_all_rf, fill_value=1)\n",
    "\n",
    "# Determine correctness\n",
    "rf_correct = y_pred_all_rf == y_true_all_rf\n",
    "baseline_correct = baseline_preds == y_true_all_rf\n",
    "\n",
    "# Compute b and c for the contingency table\n",
    "b = np.sum((rf_correct == True) & (baseline_correct == False))  # RF only correct\n",
    "c = np.sum((rf_correct == False) & (baseline_correct == True))  # Baseline only correct\n",
    "\n",
    "if b+c > 0:\n",
    "    test_statistic2 = (abs(b-c)-1 ) **2 / (b+c)\n",
    "    pvalue2 = 1-chi2.cdf(test_statistic2, df=1)\n",
    "else:\n",
    "    test_statistic2 = 0\n",
    "    pvalue2 = 1\n",
    "\n",
    "\n",
    "print(f\"McNemar's test statistic = {test_statistic2:.4f}, p-value = {pvalue2:.4f}\")\n",
    "\n",
    "# Interpretation\n",
    "if pvalue2 < 0.05:\n",
    "    print(\"✅ The Random Forest model performs significantly differently from the baseline at the 0.05 level.\")\n",
    "else:\n",
    "    print(\"❌ No significant performance difference between Random Forest and the baseline.\")"
   ]
  },
  {
   "cell_type": "code",
   "execution_count": 13,
   "metadata": {},
   "outputs": [
    {
     "name": "stdout",
     "output_type": "stream",
     "text": [
      "\n",
      "✅ Mean Accuracy across folds: 0.8273\n"
     ]
    }
   ],
   "source": [
    "print(f\"\\n✅ Mean Accuracy across folds: {np.mean(per_fold_accuracy):.4f}\")"
   ]
  },
  {
   "cell_type": "code",
   "execution_count": 14,
   "metadata": {},
   "outputs": [
    {
     "name": "stdout",
     "output_type": "stream",
     "text": [
      "              precision    recall  f1-score   support\n",
      "\n",
      "   Eyes Open       0.79      0.86      0.82      1483\n",
      " Eyes Closed       0.87      0.81      0.84      1800\n",
      "\n",
      "    accuracy                           0.83      3283\n",
      "   macro avg       0.83      0.83      0.83      3283\n",
      "weighted avg       0.84      0.83      0.83      3283\n",
      "\n"
     ]
    }
   ],
   "source": [
    "print(random_forest_classification_report)"
   ]
  },
  {
   "cell_type": "markdown",
   "metadata": {},
   "source": [
    "## Accuracy per fold random forest "
   ]
  },
  {
   "cell_type": "code",
   "execution_count": 15,
   "metadata": {},
   "outputs": [
    {
     "data": {
      "image/png": "[encoded data removed]",
      "text/plain": [
       "<Figure size 1000x500 with 1 Axes>"
      ]
     },
     "metadata": {},
     "output_type": "display_data"
    }
   ],
   "source": [
    "import matplotlib.pyplot as plt\n",
    "import numpy as np\n",
    "\n",
    "subject_ids = unique_subjects.astype(str) \n",
    "accuracies = np.array(per_fold_accuracy)\n",
    "\n",
    "sorted_indices = np.argsort(unique_subjects)\n",
    "sorted_subjects = subject_ids[sorted_indices]\n",
    "sorted_accuracies = accuracies[sorted_indices]\n",
    "\n",
    "\n",
    "# Plot accuracies for each fold\n",
    "plt.figure(figsize=(10, 5))\n",
    "plt.bar(sorted_subjects, sorted_accuracies, color='#2d4987')\n",
    "plt.title(\"Accuracy per Subject - Random Forest\")\n",
    "plt.xlabel(\"Subject ID\")\n",
    "plt.ylabel(\"Accuracy\")\n",
    "plt.ylim(0, 1)\n",
    "plt.xticks(rotation=45)\n",
    "plt.grid(axis='y', linestyle='--', alpha = 0.7)\n",
    "plt.tight_layout()\n",
    "plt.show()\n"
   ]
  },
  {
   "cell_type": "markdown",
   "metadata": {},
   "source": [
    "## Confusion matrix random forest "
   ]
  },
  {
   "cell_type": "code",
   "execution_count": 16,
   "metadata": {},
   "outputs": [
    {
     "data": {
      "image/png": "[encoded data removed]",
      "text/plain": [
       "<Figure size 500x400 with 1 Axes>"
      ]
     },
     "metadata": {},
     "output_type": "display_data"
    }
   ],
   "source": [
    "import seaborn as sns\n",
    "import matplotlib.pyplot as plt\n",
    "from sklearn.metrics import confusion_matrix\n",
    "\n",
    "# Compute confusion matrix\n",
    "cm = confusion_matrix(y_true_all, y_pred_all)\n",
    "\n",
    "# Plot\n",
    "plt.figure(figsize=(5, 4))\n",
    "sns.heatmap(cm, annot=True, fmt='d', cmap='Blues', cbar=False,\n",
    "            xticklabels=[\"Eyes Open\", \"Eyes Closed\"],\n",
    "            yticklabels=[\"Eyes Open\", \"Eyes Closed\"])\n",
    "plt.xlabel(\"Predicted Label\")\n",
    "plt.ylabel(\"True Label\")\n",
    "plt.title(\"Confusion Matrix - Random Forest\")\n",
    "plt.tight_layout()\n",
    "plt.show()\n"
   ]
  },
  {
   "cell_type": "code",
   "execution_count": null,
   "metadata": {},
   "outputs": [],
   "source": [
    "probs_rf = np.concatenate(all_probs_rf)\n",
    "np.save(\"probs_rf.npy\", probs_rf)\n",
    "\n",
    "joblib.dump(best_rf, \"model_rf.joblib\")"
   ]
  },
  {
   "cell_type": "markdown",
   "metadata": {},
   "source": []
  },
  {
   "cell_type": "code",
   "execution_count": 40,
   "metadata": {},
   "outputs": [
    {
     "data": {
      "image/png": "[encoded data removed]",
      "text/plain": [
       "<Figure size 640x480 with 1 Axes>"
      ]
     },
     "metadata": {},
     "output_type": "display_data"
    },
    {
     "data": {
      "image/png": "[encoded data removed]",
      "text/plain": [
       "<Figure size 640x480 with 1 Axes>"
      ]
     },
     "metadata": {},
     "output_type": "display_data"
    }
   ],
   "source": [
    "import matplotlib.pyplot as plt\n",
    "import scipy.stats as stats\n",
    "import numpy as np\n",
    "\n",
    "# Differences in accuracy per fold\n",
    "acc_diff = np.array(accuracies) - np.array(per_fold_accuracy)\n",
    "\n",
    "# Histogram\n",
    "plt.hist(acc_diff, bins=10, edgecolor='k')\n",
    "plt.title(\"Histogram of Accuracy Differences (SVM - RF)\")\n",
    "plt.xlabel(\"Difference in Accuracy\")\n",
    "plt.ylabel(\"Frequency\")\n",
    "plt.show()\n",
    "\n",
    "# Q-Q plot\n",
    "stats.probplot(acc_diff, dist=\"norm\", plot=plt)\n",
    "plt.title(\"Q-Q Plot of Accuracy Differences\")\n",
    "plt.show()\n"
   ]
  },
  {
   "cell_type": "code",
   "execution_count": 41,
   "metadata": {},
   "outputs": [
    {
     "name": "stdout",
     "output_type": "stream",
     "text": [
      "Paired t-test p-value: 0.556967\n",
      "Wilcoxon test p-value: 0.248828\n"
     ]
    }
   ],
   "source": [
    "from scipy.stats import ttest_rel, wilcoxon\n",
    "import numpy as np\n",
    "\n",
    "# Convert to numpy arrays (optional but recommended)\n",
    "acc_svm = np.array(accuracies)\n",
    "acc_rf = np.array(per_fold_accuracy)\n",
    "\n",
    "# Paired t-test\n",
    "_, p_ttest = ttest_rel(acc_svm, acc_rf)\n",
    "print(f\"Paired t-test p-value: {p_ttest:.6f}\")\n",
    "\n",
    "# Wilcoxon test\n",
    "_, p_wilcoxon = wilcoxon(acc_svm, acc_rf)\n",
    "print(f\"Wilcoxon test p-value: {p_wilcoxon:.6f}\")\n"
   ]
  },
  {
   "cell_type": "code",
   "execution_count": 42,
   "metadata": {},
   "outputs": [
    {
     "name": "stderr",
     "output_type": "stream",
     "text": [
      "C:\\Users\\TMS-EEG\\AppData\\Local\\Packages\\PythonSoftwareFoundation.Python.3.11_qbz5n2kfra8p0\\LocalCache\\local-packages\\Python311\\site-packages\\sklearn\\metrics\\_classification.py:1565: UndefinedMetricWarning: Precision is ill-defined and being set to 0.0 due to no predicted samples. Use `zero_division` parameter to control this behavior.\n",
      "  _warn_prf(average, modifier, f\"{metric.capitalize()} is\", len(result))\n",
      "C:\\Users\\TMS-EEG\\AppData\\Local\\Packages\\PythonSoftwareFoundation.Python.3.11_qbz5n2kfra8p0\\LocalCache\\local-packages\\Python311\\site-packages\\sklearn\\metrics\\_classification.py:1565: UndefinedMetricWarning: Recall is ill-defined and being set to 0.0 due to no true samples. Use `zero_division` parameter to control this behavior.\n",
      "  _warn_prf(average, modifier, f\"{metric.capitalize()} is\", len(result))\n",
      "C:\\Users\\TMS-EEG\\AppData\\Local\\Packages\\PythonSoftwareFoundation.Python.3.11_qbz5n2kfra8p0\\LocalCache\\local-packages\\Python311\\site-packages\\sklearn\\metrics\\_classification.py:1565: UndefinedMetricWarning: Precision is ill-defined and being set to 0.0 due to no predicted samples. Use `zero_division` parameter to control this behavior.\n",
      "  _warn_prf(average, modifier, f\"{metric.capitalize()} is\", len(result))\n",
      "C:\\Users\\TMS-EEG\\AppData\\Local\\Packages\\PythonSoftwareFoundation.Python.3.11_qbz5n2kfra8p0\\LocalCache\\local-packages\\Python311\\site-packages\\sklearn\\metrics\\_classification.py:1565: UndefinedMetricWarning: Recall is ill-defined and being set to 0.0 due to no true samples. Use `zero_division` parameter to control this behavior.\n",
      "  _warn_prf(average, modifier, f\"{metric.capitalize()} is\", len(result))\n"
     ]
    },
    {
     "data": {
      "image/png": "[encoded data removed]",
      "text/plain": [
       "<Figure size 1000x800 with 4 Axes>"
      ]
     },
     "metadata": {},
     "output_type": "display_data"
    },
    {
     "name": "stdout",
     "output_type": "stream",
     "text": [
      "Paired t-test - Precision: t = -3.210, p = 0.0032\n",
      "Paired t-test - Recall:    t = 1.349, p = 0.1879\n",
      "Wilcoxon test - Precision: W = 26.500, p = 0.0020\n",
      "Wilcoxon test - Recall:    W = 121.500, p = 0.6149\n"
     ]
    }
   ],
   "source": [
    "import numpy as np\n",
    "import matplotlib.pyplot as plt\n",
    "import scipy.stats as stats\n",
    "from sklearn.metrics import precision_score, recall_score\n",
    "from scipy.stats import ttest_rel, wilcoxon\n",
    "\n",
    "# --- Compute per-fold metrics ---\n",
    "svm_precisions = [precision_score(y_true, y_pred) for y_true, y_pred in zip(all_y_true_folds_svm, all_y_pred_folds)]\n",
    "svm_recalls    = [recall_score(y_true, y_pred) for y_true, y_pred in zip(all_y_true_folds_svm, all_y_pred_folds)]\n",
    "rf_precisions  = [precision_score(y_true, y_pred) for y_true, y_pred in zip(all_y_true_folds_rf, all_y_pred_folds_rf)]\n",
    "rf_recalls     = [recall_score(y_true, y_pred) for y_true, y_pred in zip(all_y_true_folds_rf, all_y_pred_folds_rf)]\n",
    "\n",
    "# --- Q-Q Plots ---\n",
    "fig, axs = plt.subplots(2, 2, figsize=(10, 8))\n",
    "\n",
    "stats.probplot(svm_precisions, dist=\"norm\", plot=axs[0, 0])\n",
    "axs[0, 0].set_title(\"Q-Q Plot: SVM Precision\")\n",
    "\n",
    "stats.probplot(rf_precisions, dist=\"norm\", plot=axs[0, 1])\n",
    "axs[0, 1].set_title(\"Q-Q Plot: RF Precision\")\n",
    "\n",
    "stats.probplot(svm_recalls, dist=\"norm\", plot=axs[1, 0])\n",
    "axs[1, 0].set_title(\"Q-Q Plot: SVM Recall\")\n",
    "\n",
    "stats.probplot(rf_recalls, dist=\"norm\", plot=axs[1, 1])\n",
    "axs[1, 1].set_title(\"Q-Q Plot: RF Recall\")\n",
    "\n",
    "plt.tight_layout()\n",
    "plt.show()\n",
    "\n",
    "# --- Paired t-tests ---\n",
    "t_stat_prec, p_val_prec = ttest_rel(svm_precisions, rf_precisions)\n",
    "t_stat_rec, p_val_rec = ttest_rel(svm_recalls, rf_recalls)\n",
    "\n",
    "print(f\"Paired t-test - Precision: t = {t_stat_prec:.3f}, p = {p_val_prec:.4f}\")\n",
    "print(f\"Paired t-test - Recall:    t = {t_stat_rec:.3f}, p = {p_val_rec:.4f}\")\n",
    "\n",
    "# --- Wilcoxon tests (optional if Q-Q plots look normal) ---\n",
    "w_stat_prec, p_val_prec_w = wilcoxon(svm_precisions, rf_precisions)\n",
    "w_stat_rec, p_val_rec_w = wilcoxon(svm_recalls, rf_recalls)\n",
    "\n",
    "print(f\"Wilcoxon test - Precision: W = {w_stat_prec:.3f}, p = {p_val_prec_w:.4f}\")\n",
    "print(f\"Wilcoxon test - Recall:    W = {w_stat_rec:.3f}, p = {p_val_rec_w:.4f}\")\n"
   ]
  }
 ],
 "metadata": {
  "kernelspec": {
   "display_name": "Python 3",
   "language": "python",
   "name": "python3"
  },
  "language_info": {
   "codemirror_mode": {
    "name": "ipython",
    "version": 3
   },
   "file_extension": ".py",
   "mimetype": "text/x-python",
   "name": "python",
   "nbconvert_exporter": "python",
   "pygments_lexer": "ipython3",
   "version": "3.11.9"
  }
 },
 "nbformat": 4,
 "nbformat_minor": 2
}
