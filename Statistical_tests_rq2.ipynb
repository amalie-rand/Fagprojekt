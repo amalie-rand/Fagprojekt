{
 "cells": [
  {
   "cell_type": "markdown",
   "id": "ed562179",
   "metadata": {},
   "source": [
    "# Comparing each of the 6 models to the baseline "
   ]
  },
  {
   "cell_type": "code",
   "execution_count": null,
   "id": "1c9eb3b8",
   "metadata": {},
   "outputs": [],
   "source": [
    "import pickle\n",
    "import numpy as np\n",
    "from collections import Counter\n",
    "from sklearn.metrics import accuracy_score\n",
    "from statsmodels.stats.contingency_tables import mcnemar\n",
    "\n",
    "# ----------------------- Helper functions -----------------------\n",
    "def load_pickle(path):\n",
    "    with open(path, \"rb\") as f:\n",
    "        return pickle.load(f)\n",
    "\n",
    "def get_baseline_preds(y_true):\n",
    "    majority_class = Counter(y_true).most_common(1)[0][0]\n",
    "    return [majority_class] * len(y_true)\n",
    "\n",
    "def run_baseline_comparison(y_true, y_pred, model_name):\n",
    "    baseline_preds = get_baseline_preds(y_true)\n",
    "\n",
    "    model_acc = accuracy_score(y_true, y_pred)\n",
    "    baseline_acc = accuracy_score(y_true, baseline_preds)\n",
    "\n",
    "    # McNemar contingency table\n",
    "    table = np.zeros((2, 2))  # Rows: baseline correct/incorrect, Cols: model correct/incorrect\n",
    "    for true, pred_model, pred_base in zip(y_true, y_pred, baseline_preds):\n",
    "        correct_model = int(pred_model == true)\n",
    "        correct_base = int(pred_base == true)\n",
    "        table[correct_base, correct_model] += 1\n",
    "\n",
    "    p_value = mcnemar(table, exact=True).pvalue\n",
    "\n",
    "    print(f\"\\n {model_name}\")\n",
    "    print(f\"Baseline Accuracy: {baseline_acc:.3f}\")\n",
    "    print(f\"McNemar's p-value: {p_value:.40f}\")\n",
    "\n",
    "# ----------------------- Load and compare all models -----------------------\n",
    "model_paths = {\n",
    "    \"RF EC\": (\"y_test_EC_rf.pkl\", \"test_preds_EC_rf.pkl\"),\n",
    "    \"RF EO\": (\"y_test_EC_rf.pkl\", \"y_pred_EO_rf.pkl\"),\n",
    "    \"RF Random\": (\"y_test_EC_rf.pkl\", \"test_preds_random_rf.pkl\"),\n",
    "    \"MLR EC\": (\"y_test_EC_rf.pkl\", \"test_preds_EC_mr.pkl\"),\n",
    "    \"MLR EO\": (\"y_test_EC_rf.pkl\", \"test_preds_EO_mr.pkl\"),\n",
    "    \"MLR Random\": (\"y_test_EC_rf.pkl\", \"test_preds_random_mr.pkl\"),\n",
    "}\n",
    "\n",
    "for name, (y_path, pred_path) in model_paths.items():\n",
    "    y_true = load_pickle(y_path)\n",
    "    y_pred = load_pickle(pred_path)\n",
    "    run_baseline_comparison(y_true, y_pred, name)\n"
   ]
  }
 ],
 "metadata": {
  "language_info": {
   "name": "python"
  }
 },
 "nbformat": 4,
 "nbformat_minor": 5
}
