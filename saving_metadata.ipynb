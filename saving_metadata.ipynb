{
 "cells": [
  {
   "cell_type": "markdown",
   "id": "2073d690",
   "metadata": {},
   "source": [
    "# Saves metadata"
   ]
  },
  {
   "cell_type": "markdown",
   "id": "60b4143a",
   "metadata": {},
   "source": [
    "Checks that the mat files have at least 19 channels and that gender, age and cpr is not missing. For the files that meet these requirements, the subject id is appened to a list and the metadata for this subject is saved to a csv file called valid_metadata.csv"
   ]
  },
  {
   "cell_type": "code",
   "execution_count": null,
   "id": "1f74699f",
   "metadata": {},
   "outputs": [],
   "source": [
    "import os\n",
    "import scipy.io\n",
    "import numpy as np\n",
    "import pandas as pd"
   ]
  },
  {
   "cell_type": "code",
   "execution_count": null,
   "id": "d826d77e",
   "metadata": {},
   "outputs": [],
   "source": [
    "# All the mat files \n",
    "data_dir = 'E:\\ChristianMusaeus\\Data\\eAsMat_1968-14999'\n",
    "output_csv = 'valid_metadata.csv'\n",
    "\n",
    "# Functions\n",
    "def load_mat_file(filepath):\n",
    "    \"\"\"Load a .mat file \"\"\"\n",
    "    return scipy.io.loadmat(filepath, struct_as_record=False, squeeze_me=True)\n",
    "\n",
    "def get_num_channels(mat_data):\n",
    "    \"\"\"Extract the number of EEG channels from EEG.chanlocs\"\"\"\n",
    "    eeg = mat_data['EEG']\n",
    "    if isinstance(eeg, np.ndarray):\n",
    "        eeg = eeg.item()\n",
    "    chanlocs = getattr(eeg, 'chanlocs', None)\n",
    "    return len(chanlocs) if chanlocs is not None else 0\n",
    "\n",
    "def extract_metadata(mat_data):\n",
    "    \"\"\"Extract age, sex, and CPR from EEG.patientID\"\"\"\n",
    "    eeg = mat_data['EEG']\n",
    "    if isinstance(eeg, np.ndarray):\n",
    "        eeg = eeg.item()\n",
    "    try:\n",
    "        patient = eeg.patientID\n",
    "        age = getattr(patient, 'age', None)\n",
    "        sex = getattr(patient, 'sex', None)\n",
    "        cpr = getattr(patient, 'CPR', None)\n",
    "        if age is not None and sex not in (None, '', 'NA'):\n",
    "            return age, sex, cpr\n",
    "    except Exception:\n",
    "        pass\n",
    "    return None, None, None\n",
    "\n",
    "# Main Loop \n",
    "records = []\n",
    "mat_files = [f for f in os.listdir(data_dir) if f.endswith('.mat')]\n",
    "total_files = len(mat_files)\n",
    "\n",
    "for i, file in enumerate(mat_files, start=1):\n",
    "    print(f\"[{i}/{total_files}] Processing file {file}\")\n",
    "    filepath = os.path.join(data_dir, file)\n",
    "    try:\n",
    "        mat = load_mat_file(filepath)\n",
    "        n_channels = get_num_channels(mat)\n",
    "        if n_channels >= 19:\n",
    "            age, sex, cpr = extract_metadata(mat)\n",
    "            if age is not None and sex is not None:\n",
    "                subject_id = os.path.splitext(file)[0]\n",
    "                records.append({\n",
    "                    'subject_id': subject_id,\n",
    "                    'age': age,\n",
    "                    'sex': sex,\n",
    "                    'cpr': cpr\n",
    "                })\n",
    "    except Exception as e:\n",
    "        print(f\"Skipping {file}: {e}\")\n",
    "\n",
    "# Save to CSV\n",
    "df = pd.DataFrame(records)\n",
    "df.to_csv(output_csv, index=False)\n",
    "print(f\"\\n Done. Saved {len(df)} valid entries to {output_csv}\")\n"
   ]
  },
  {
   "cell_type": "code",
   "execution_count": null,
   "id": "7673d9b3",
   "metadata": {},
   "outputs": [],
   "source": [
    "df = pd.read_csv('valid_metadata.csv')\n",
    "print(f\" Number of valid files: {len(df)}\")"
   ]
  },
  {
   "cell_type": "markdown",
   "id": "b006b222",
   "metadata": {},
   "source": [
    "This saves 8292 files. The length of the files are then checked. If the file is between 10 minutes and 60 minutes, the subject id is appended to the list valid_time_files. "
   ]
  },
  {
   "cell_type": "code",
   "execution_count": null,
   "id": "6e61a7b3",
   "metadata": {},
   "outputs": [],
   "source": [
    "\n",
    "data_dir = 'E:\\ChristianMusaeus\\Data\\eAsMat_1968-14999'\n",
    "metadata_csv = 'valid_metadata.csv'\n",
    "\n",
    "def load_mat_file(filepath):\n",
    "    return scipy.io.loadmat(filepath, struct_as_record=False, squeeze_me=True)\n",
    "\n",
    "# Load Valid Metadata\n",
    "df = pd.read_csv(metadata_csv)\n",
    "\n",
    "# Initialize List\n",
    "valid_time_files = []\n",
    "\n",
    "# Loop Through Each File\n",
    "total_files = len(df)\n",
    "\n",
    "for i, row in df.iterrows():\n",
    "    subject_id = row['subject_id']\n",
    "    file_path = os.path.join(data_dir, f\"{subject_id}.mat\")\n",
    "    print(f\"[{i + 1}/{total_files}] Processing {subject_id}.mat...\")\n",
    "\n",
    "    try:\n",
    "        mat = load_mat_file(file_path)\n",
    "        eeg = mat['EEG']\n",
    "        if isinstance(eeg, np.ndarray):\n",
    "            eeg = eeg.item()\n",
    "\n",
    "        data = getattr(eeg, 'data', None)\n",
    "        sr = getattr(eeg, 'sr', None)  # Use 'sr' field for sampling rate\n",
    "\n",
    "        if isinstance(data, np.ndarray) and sr is not None:\n",
    "            if data.ndim == 2:\n",
    "                n_samples = data.shape[1]\n",
    "                duration_sec = n_samples / sr\n",
    "                duration_min = duration_sec / 60\n",
    "                print(f\"   → Duration: {duration_min:.2f} minutes\")\n",
    "\n",
    "                if 10 <= duration_min <= 60:\n",
    "                    valid_time_files.append(subject_id)\n",
    "            else:\n",
    "                print(f\"   ⚠ Unexpected data shape: {data.shape}\")\n",
    "        else:\n",
    "            print(f\"   ⚠ Missing or invalid 'data' or 'sr'\")\n",
    "    except Exception as e:\n",
    "        print(f\" Error reading {subject_id}.mat: {e}\")\n",
    "\n",
    "print(f\"\\n Done. Files between 10 and 60 minutes: {len(valid_time_files)}\")\n"
   ]
  },
  {
   "cell_type": "markdown",
   "id": "160e46f3",
   "metadata": {},
   "source": [
    "5778 files meet the time requirements. The metadata for these 5778 subjects is then added to a new csv file called metadata_time_filtered.csv"
   ]
  },
  {
   "cell_type": "code",
   "execution_count": null,
   "id": "3d1dd743",
   "metadata": {},
   "outputs": [],
   "source": [
    "metadata_df = pd.read_csv('valid_metadata.csv')\n",
    "valid_time_set = set(valid_time_files)\n",
    "\n",
    "filtered_df = metadata_df[metadata_df['subject_id'].isin(valid_time_set)]\n",
    "filtered_df.to_csv('metadata_time_filtered.csv', index=False)\n",
    "\n",
    "print(f\"Done. Saved {len(filtered_df)} entries to metadata_time_filtered.csv\")"
   ]
  }
 ],
 "metadata": {
  "language_info": {
   "name": "python"
  }
 },
 "nbformat": 4,
 "nbformat_minor": 5
}
