{
 "cells": [
  {
   "cell_type": "markdown",
   "id": "62680ccf",
   "metadata": {},
   "source": [
    "# Two-way ANOVA evaluting effect of data set and model type"
   ]
  },
  {
   "cell_type": "markdown",
   "id": "e4cbf0f1",
   "metadata": {},
   "source": [
    "### Two way ANOVA with interaction term"
   ]
  },
  {
   "cell_type": "code",
   "execution_count": null,
   "id": "14ba2dca",
   "metadata": {},
   "outputs": [],
   "source": [
    "import pandas as pd\n",
    "import statsmodels.api as sm\n",
    "from statsmodels.formula.api import ols\n",
    "import seaborn as sns\n",
    "import matplotlib.pyplot as plt"
   ]
  },
  {
   "cell_type": "code",
   "execution_count": null,
   "id": "10215403",
   "metadata": {},
   "outputs": [],
   "source": [
    "#  LOAD AND COMBINE SUBJECT-LEVEL SCORES \n",
    "paths = [\n",
    "    \"subject_scores_rf_ec.csv\",\n",
    "    \"subject_scores_rf_eo.csv\",\n",
    "    \"subject_scores_rf_random.csv\",\n",
    "    \"subject_scores_mlr_ec.csv\",\n",
    "    \"subject_scores_mlr_eo.csv\",\n",
    "    \"subject_scores_mlr_random.csv\"\n",
    "]\n",
    "\n",
    "dfs = [pd.read_csv(path) for path in paths]\n",
    "df_combined = pd.concat(dfs, ignore_index=True)\n",
    "\n",
    "# Ensure categorical types\n",
    "df_combined[\"model_type\"] = df_combined[\"model_type\"].astype(\"category\")\n",
    "df_combined[\"data_type\"] = df_combined[\"data_type\"].astype(\"category\")\n",
    "\n",
    "# ------------ TWO-WAY ANOVA ------------\n",
    "model = ols('score ~ C(model_type) + C(data_type) + C(model_type):C(data_type)', data=df_combined).fit()\n",
    "anova_table = sm.stats.anova_lm(model, typ=2)\n",
    "print(\"\\n Two-Way ANOVA Results:\\n\")\n",
    "print(anova_table)\n",
    "\n",
    "# ------------ OPTIONAL: INTERACTION PLOT ------------\n",
    "plt.figure(figsize=(10, 6))\n",
    "palette = {\"RFC\": \"green\", \"MLR\": \"blue\"}\n",
    "sns.pointplot(data=df_combined, x=\"data_type\", y=\"score\", hue=\"model_type\", errorbar=('ci', 95), dodge=True, markers=[\"o\", \"s\"], capsize=.1, palette=palette)\n",
    "plt.title(\"Mean Accuracy by Model and Data Type\")\n",
    "plt.xlabel(\"EEG epoch types\")\n",
    "plt.ylabel(\"Accuracy Score\")\n",
    "plt.grid(True)\n",
    "plt.tight_layout()\n",
    "plt.show()\n"
   ]
  },
  {
   "cell_type": "markdown",
   "id": "e1551448",
   "metadata": {},
   "source": [
    "### Two-way ANOVA without Interaction term"
   ]
  },
  {
   "cell_type": "code",
   "execution_count": null,
   "id": "cb0f3bd0",
   "metadata": {},
   "outputs": [],
   "source": [
    "#  LOAD AND COMBINE SUBJECT-LEVEL SCORES \n",
    "paths = [\n",
    "    \"subject_scores_rf_ec.csv\",\n",
    "    \"subject_scores_rf_eo.csv\",\n",
    "    \"subject_scores_rf_random.csv\",\n",
    "    \"subject_scores_mlr_ec.csv\",\n",
    "    \"subject_scores_mlr_eo.csv\",\n",
    "    \"subject_scores_mlr_random.csv\"\n",
    "]\n",
    "\n",
    "dfs = [pd.read_csv(path) for path in paths]\n",
    "df_combined = pd.concat(dfs, ignore_index=True)\n",
    "\n",
    "# Ensure categorical types\n",
    "df_combined[\"model_type\"] = df_combined[\"model_type\"].astype(\"category\")\n",
    "df_combined[\"data_type\"] = df_combined[\"data_type\"].astype(\"category\")\n",
    "\n",
    "#  TWO-WAY ANOVA \n",
    "model = ols('score ~ C(model_type) + C(data_type)', data=df_combined).fit()\n",
    "anova_table = sm.stats.anova_lm(model, typ=2)\n",
    "print(\"\\n Two-Way ANOVA Results:\\n\")\n",
    "print(anova_table)\n",
    "\n",
    "# INTERACTION PLOT\n",
    "plt.figure(figsize=(10, 6))\n",
    "palette = {\"RFC\": \"green\", \"MLR\": \"blue\"}\n",
    "sns.pointplot(data=df_combined, x=\"data_type\", y=\"score\", hue=\"model_type\", ci=95, dodge=True, markers=[\"o\", \"s\"], capsize=.1, palette=palette)\n",
    "plt.title(\"Mean Accuracy by Model and Data Type\")\n",
    "plt.xlabel(\"EEG epoch types\")\n",
    "plt.ylabel(\"Accuracy Score\")\n",
    "plt.grid(True)\n",
    "plt.tight_layout()\n",
    "plt.show()\n"
   ]
  }
 ],
 "metadata": {
  "language_info": {
   "name": "python"
  }
 },
 "nbformat": 4,
 "nbformat_minor": 5
}
